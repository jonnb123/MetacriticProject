{
  "nbformat": 4,
  "nbformat_minor": 0,
  "metadata": {
    "colab": {
      "name": "AmazonModel",
      "provenance": [],
      "collapsed_sections": [],
      "toc_visible": true
    },
    "kernelspec": {
      "name": "python3",
      "display_name": "Python 3"
    }
  },
  "cells": [
    {
      "cell_type": "markdown",
      "metadata": {
        "id": "8O5u8-bW-CDD"
      },
      "source": [
        "# Amazon Review Data"
      ]
    },
    {
      "cell_type": "markdown",
      "metadata": {
        "id": "hjx_fHbKwWNi"
      },
      "source": [
        "We use this layout for embedding (apart from I am using the 4th Universal Sentence Encoder, rather than 3rd) and our neural network: https://www.curiousily.com/posts/sentiment-analysis-with-tensorflow-2-and-keras-using-python/ - the work of \n",
        "Venelin Valkov. I am also doing this for three category classification rather than 2. "
      ]
    },
    {
      "cell_type": "markdown",
      "metadata": {
        "id": "sOWCp8BtZEXR"
      },
      "source": [
        "Import necessary packages:"
      ]
    },
    {
      "cell_type": "code",
      "metadata": {
        "id": "ydF1V5hJzlQ3",
        "colab": {
          "base_uri": "https://localhost:8080/",
          "height": 793
        },
        "outputId": "bd415460-fd00-4738-ff05-aae379da8687"
      },
      "source": [
        "!pip install tensorflow_text\n",
        "from google.colab import drive\n",
        "drive.mount('/content/drive')\n",
        "import pandas as pd\n",
        "import pickle\n",
        "import numpy as np\n",
        "from sklearn.model_selection import train_test_split\n",
        "from sklearn.preprocessing import OneHotEncoder\n",
        "import tensorflow_hub as hub\n",
        "from tqdm import tqdm\n",
        "import tensorflow as tf\n",
        "from tensorflow import keras\n",
        "import seaborn as sns\n",
        "import tensorflow_hub as hub\n",
        "import tensorflow_text\n",
        "from wordcloud import WordCloud, STOPWORDS, ImageColorGenerator\n",
        "import matplotlib.pyplot as plt\n",
        "from sklearn.preprocessing import OneHotEncoder\n",
        "RANDOM_STATE = 38\n",
        "np.random.seed(RANDOM_STATE)\n",
        "tf.random.set_seed(RANDOM_STATE)"
      ],
      "execution_count": null,
      "outputs": [
        {
          "output_type": "stream",
          "text": [
            "Collecting tensorflow_text\n",
            "\u001b[?25l  Downloading https://files.pythonhosted.org/packages/28/b2/2dbd90b93913afd07e6101b8b84327c401c394e60141c1e98590038060b3/tensorflow_text-2.3.0-cp36-cp36m-manylinux1_x86_64.whl (2.6MB)\n",
            "\u001b[K     |████████████████████████████████| 2.6MB 3.5MB/s \n",
            "\u001b[?25hRequirement already satisfied: tensorflow<2.4,>=2.3.0 in /usr/local/lib/python3.6/dist-packages (from tensorflow_text) (2.3.0)\n",
            "Requirement already satisfied: keras-preprocessing<1.2,>=1.1.1 in /usr/local/lib/python3.6/dist-packages (from tensorflow<2.4,>=2.3.0->tensorflow_text) (1.1.2)\n",
            "Requirement already satisfied: gast==0.3.3 in /usr/local/lib/python3.6/dist-packages (from tensorflow<2.4,>=2.3.0->tensorflow_text) (0.3.3)\n",
            "Requirement already satisfied: tensorflow-estimator<2.4.0,>=2.3.0 in /usr/local/lib/python3.6/dist-packages (from tensorflow<2.4,>=2.3.0->tensorflow_text) (2.3.0)\n",
            "Requirement already satisfied: wrapt>=1.11.1 in /usr/local/lib/python3.6/dist-packages (from tensorflow<2.4,>=2.3.0->tensorflow_text) (1.12.1)\n",
            "Requirement already satisfied: numpy<1.19.0,>=1.16.0 in /usr/local/lib/python3.6/dist-packages (from tensorflow<2.4,>=2.3.0->tensorflow_text) (1.18.5)\n",
            "Requirement already satisfied: scipy==1.4.1 in /usr/local/lib/python3.6/dist-packages (from tensorflow<2.4,>=2.3.0->tensorflow_text) (1.4.1)\n",
            "Requirement already satisfied: tensorboard<3,>=2.3.0 in /usr/local/lib/python3.6/dist-packages (from tensorflow<2.4,>=2.3.0->tensorflow_text) (2.3.0)\n",
            "Requirement already satisfied: grpcio>=1.8.6 in /usr/local/lib/python3.6/dist-packages (from tensorflow<2.4,>=2.3.0->tensorflow_text) (1.31.0)\n",
            "Requirement already satisfied: termcolor>=1.1.0 in /usr/local/lib/python3.6/dist-packages (from tensorflow<2.4,>=2.3.0->tensorflow_text) (1.1.0)\n",
            "Requirement already satisfied: wheel>=0.26 in /usr/local/lib/python3.6/dist-packages (from tensorflow<2.4,>=2.3.0->tensorflow_text) (0.35.1)\n",
            "Requirement already satisfied: h5py<2.11.0,>=2.10.0 in /usr/local/lib/python3.6/dist-packages (from tensorflow<2.4,>=2.3.0->tensorflow_text) (2.10.0)\n",
            "Requirement already satisfied: astunparse==1.6.3 in /usr/local/lib/python3.6/dist-packages (from tensorflow<2.4,>=2.3.0->tensorflow_text) (1.6.3)\n",
            "Requirement already satisfied: six>=1.12.0 in /usr/local/lib/python3.6/dist-packages (from tensorflow<2.4,>=2.3.0->tensorflow_text) (1.15.0)\n",
            "Requirement already satisfied: protobuf>=3.9.2 in /usr/local/lib/python3.6/dist-packages (from tensorflow<2.4,>=2.3.0->tensorflow_text) (3.12.4)\n",
            "Requirement already satisfied: opt-einsum>=2.3.2 in /usr/local/lib/python3.6/dist-packages (from tensorflow<2.4,>=2.3.0->tensorflow_text) (3.3.0)\n",
            "Requirement already satisfied: google-pasta>=0.1.8 in /usr/local/lib/python3.6/dist-packages (from tensorflow<2.4,>=2.3.0->tensorflow_text) (0.2.0)\n",
            "Requirement already satisfied: absl-py>=0.7.0 in /usr/local/lib/python3.6/dist-packages (from tensorflow<2.4,>=2.3.0->tensorflow_text) (0.8.1)\n",
            "Requirement already satisfied: setuptools>=41.0.0 in /usr/local/lib/python3.6/dist-packages (from tensorboard<3,>=2.3.0->tensorflow<2.4,>=2.3.0->tensorflow_text) (49.6.0)\n",
            "Requirement already satisfied: google-auth-oauthlib<0.5,>=0.4.1 in /usr/local/lib/python3.6/dist-packages (from tensorboard<3,>=2.3.0->tensorflow<2.4,>=2.3.0->tensorflow_text) (0.4.1)\n",
            "Requirement already satisfied: werkzeug>=0.11.15 in /usr/local/lib/python3.6/dist-packages (from tensorboard<3,>=2.3.0->tensorflow<2.4,>=2.3.0->tensorflow_text) (1.0.1)\n",
            "Requirement already satisfied: markdown>=2.6.8 in /usr/local/lib/python3.6/dist-packages (from tensorboard<3,>=2.3.0->tensorflow<2.4,>=2.3.0->tensorflow_text) (3.2.2)\n",
            "Requirement already satisfied: requests<3,>=2.21.0 in /usr/local/lib/python3.6/dist-packages (from tensorboard<3,>=2.3.0->tensorflow<2.4,>=2.3.0->tensorflow_text) (2.23.0)\n",
            "Requirement already satisfied: google-auth<2,>=1.6.3 in /usr/local/lib/python3.6/dist-packages (from tensorboard<3,>=2.3.0->tensorflow<2.4,>=2.3.0->tensorflow_text) (1.17.2)\n",
            "Requirement already satisfied: tensorboard-plugin-wit>=1.6.0 in /usr/local/lib/python3.6/dist-packages (from tensorboard<3,>=2.3.0->tensorflow<2.4,>=2.3.0->tensorflow_text) (1.7.0)\n",
            "Requirement already satisfied: requests-oauthlib>=0.7.0 in /usr/local/lib/python3.6/dist-packages (from google-auth-oauthlib<0.5,>=0.4.1->tensorboard<3,>=2.3.0->tensorflow<2.4,>=2.3.0->tensorflow_text) (1.3.0)\n",
            "Requirement already satisfied: importlib-metadata; python_version < \"3.8\" in /usr/local/lib/python3.6/dist-packages (from markdown>=2.6.8->tensorboard<3,>=2.3.0->tensorflow<2.4,>=2.3.0->tensorflow_text) (1.7.0)\n",
            "Requirement already satisfied: idna<3,>=2.5 in /usr/local/lib/python3.6/dist-packages (from requests<3,>=2.21.0->tensorboard<3,>=2.3.0->tensorflow<2.4,>=2.3.0->tensorflow_text) (2.10)\n",
            "Requirement already satisfied: chardet<4,>=3.0.2 in /usr/local/lib/python3.6/dist-packages (from requests<3,>=2.21.0->tensorboard<3,>=2.3.0->tensorflow<2.4,>=2.3.0->tensorflow_text) (3.0.4)\n",
            "Requirement already satisfied: certifi>=2017.4.17 in /usr/local/lib/python3.6/dist-packages (from requests<3,>=2.21.0->tensorboard<3,>=2.3.0->tensorflow<2.4,>=2.3.0->tensorflow_text) (2020.6.20)\n",
            "Requirement already satisfied: urllib3!=1.25.0,!=1.25.1,<1.26,>=1.21.1 in /usr/local/lib/python3.6/dist-packages (from requests<3,>=2.21.0->tensorboard<3,>=2.3.0->tensorflow<2.4,>=2.3.0->tensorflow_text) (1.24.3)\n",
            "Requirement already satisfied: rsa<5,>=3.1.4; python_version >= \"3\" in /usr/local/lib/python3.6/dist-packages (from google-auth<2,>=1.6.3->tensorboard<3,>=2.3.0->tensorflow<2.4,>=2.3.0->tensorflow_text) (4.6)\n",
            "Requirement already satisfied: cachetools<5.0,>=2.0.0 in /usr/local/lib/python3.6/dist-packages (from google-auth<2,>=1.6.3->tensorboard<3,>=2.3.0->tensorflow<2.4,>=2.3.0->tensorflow_text) (4.1.1)\n",
            "Requirement already satisfied: pyasn1-modules>=0.2.1 in /usr/local/lib/python3.6/dist-packages (from google-auth<2,>=1.6.3->tensorboard<3,>=2.3.0->tensorflow<2.4,>=2.3.0->tensorflow_text) (0.2.8)\n",
            "Requirement already satisfied: oauthlib>=3.0.0 in /usr/local/lib/python3.6/dist-packages (from requests-oauthlib>=0.7.0->google-auth-oauthlib<0.5,>=0.4.1->tensorboard<3,>=2.3.0->tensorflow<2.4,>=2.3.0->tensorflow_text) (3.1.0)\n",
            "Requirement already satisfied: zipp>=0.5 in /usr/local/lib/python3.6/dist-packages (from importlib-metadata; python_version < \"3.8\"->markdown>=2.6.8->tensorboard<3,>=2.3.0->tensorflow<2.4,>=2.3.0->tensorflow_text) (3.1.0)\n",
            "Requirement already satisfied: pyasn1>=0.1.3 in /usr/local/lib/python3.6/dist-packages (from rsa<5,>=3.1.4; python_version >= \"3\"->google-auth<2,>=1.6.3->tensorboard<3,>=2.3.0->tensorflow<2.4,>=2.3.0->tensorflow_text) (0.4.8)\n",
            "Installing collected packages: tensorflow-text\n",
            "Successfully installed tensorflow-text-2.3.0\n",
            "Drive already mounted at /content/drive; to attempt to forcibly remount, call drive.mount(\"/content/drive\", force_remount=True).\n"
          ],
          "name": "stdout"
        },
        {
          "output_type": "stream",
          "text": [
            "/usr/local/lib/python3.6/dist-packages/statsmodels/tools/_testing.py:19: FutureWarning: pandas.util.testing is deprecated. Use the functions in the public API at pandas.testing instead.\n",
            "  import pandas.util.testing as tm\n"
          ],
          "name": "stderr"
        }
      ]
    },
    {
      "cell_type": "markdown",
      "metadata": {
        "id": "xO_vO7aF1JiG"
      },
      "source": [
        "This is a huge csv file of Amazon reviews taken from kaggle: https://www.kaggle.com/snap/amazon-fine-food-reviews "
      ]
    },
    {
      "cell_type": "code",
      "metadata": {
        "id": "GnOI0btm0B9q",
        "colab": {
          "base_uri": "https://localhost:8080/",
          "height": 353
        },
        "outputId": "3cf3e169-04fd-44f4-f696-3c2d2e1d2538"
      },
      "source": [
        "df = pd.read_csv(\"drive/My Drive/csv's/Amazon_Reviews.csv\",engine='python')\n",
        "print(df)\n",
        "df['Score'].value_counts()"
      ],
      "execution_count": null,
      "outputs": [
        {
          "output_type": "stream",
          "text": [
            "            Id  ...                                               Text\n",
            "0            1  ...  I have bought several of the Vitality canned d...\n",
            "1            2  ...  Product arrived labeled as Jumbo Salted Peanut...\n",
            "2            3  ...  This is a confection that has been around a fe...\n",
            "3            4  ...  If you are looking for the secret ingredient i...\n",
            "4            5  ...  Great taffy at a great price.  There was a wid...\n",
            "...        ...  ...                                                ...\n",
            "568449  568450  ...  Great for sesame chicken..this is a good if no...\n",
            "568450  568451  ...  I'm disappointed with the flavor. The chocolat...\n",
            "568451  568452  ...  These stars are small, so you can give 10-15 o...\n",
            "568452  568453  ...  These are the BEST treats for training and rew...\n",
            "568453  568454  ...  I am very satisfied ,product is as advertised,...\n",
            "\n",
            "[568454 rows x 10 columns]\n"
          ],
          "name": "stdout"
        },
        {
          "output_type": "execute_result",
          "data": {
            "text/plain": [
              "5    363122\n",
              "4     80655\n",
              "1     52268\n",
              "3     42640\n",
              "2     29769\n",
              "Name: Score, dtype: int64"
            ]
          },
          "metadata": {
            "tags": []
          },
          "execution_count": 20
        }
      ]
    },
    {
      "cell_type": "markdown",
      "metadata": {
        "id": "yXVCllHu3Eal"
      },
      "source": [
        "# Preprocessing "
      ]
    },
    {
      "cell_type": "markdown",
      "metadata": {
        "id": "wHy4-wn5_DHj"
      },
      "source": [
        "Converting scores:   \n",
        "\n",
        "*   0 : Negative\n",
        "*   1 : Average\n",
        "*   2 : Positive\n",
        "\n",
        "\n",
        "\n"
      ]
    },
    {
      "cell_type": "code",
      "metadata": {
        "id": "9Yis9zpI14PW",
        "colab": {
          "base_uri": "https://localhost:8080/",
          "height": 252
        },
        "outputId": "b65a90cf-aa11-453c-ea3c-7f88c2ce0566"
      },
      "source": [
        "df['review_type'] = df['Score']\n",
        "df.loc[df['review_type'] == 1, 'review_type'] = 0\n",
        "df.loc[df['review_type'] == 2, 'review_type'] = 0\n",
        "df.loc[df['review_type'] == 3, 'review_type'] = 1\n",
        "df.loc[df['review_type'] == 4, 'review_type'] = 2\n",
        "df.loc[df['review_type'] == 5, 'review_type'] = 2\n",
        "\n",
        "print(df.head)"
      ],
      "execution_count": null,
      "outputs": [
        {
          "output_type": "stream",
          "text": [
            "<bound method NDFrame.head of             Id  ... review_type\n",
            "0            1  ...           2\n",
            "1            2  ...           0\n",
            "2            3  ...           2\n",
            "3            4  ...           0\n",
            "4            5  ...           2\n",
            "...        ...  ...         ...\n",
            "568449  568450  ...           2\n",
            "568450  568451  ...           0\n",
            "568451  568452  ...           2\n",
            "568452  568453  ...           2\n",
            "568453  568454  ...           2\n",
            "\n",
            "[568454 rows x 11 columns]>\n"
          ],
          "name": "stdout"
        }
      ]
    },
    {
      "cell_type": "markdown",
      "metadata": {
        "id": "H13JEmfECqf6"
      },
      "source": [
        "From this average_reviews has the least number of reviews, so make each category the same size:"
      ]
    },
    {
      "cell_type": "code",
      "metadata": {
        "id": "FvCHr3vg-6KU",
        "colab": {
          "base_uri": "https://localhost:8080/",
          "height": 67
        },
        "outputId": "eb4064d5-e8ea-4cee-ebd6-c044b2314373"
      },
      "source": [
        "negative_reviews = df[df.review_type == 0]\n",
        "average_reviews = df[df.review_type == 1]\n",
        "positive_reviews = df[df.review_type == 2]\n",
        "\n",
        "print(negative_reviews.shape)\n",
        "print(average_reviews.shape)\n",
        "print(positive_reviews.shape)"
      ],
      "execution_count": null,
      "outputs": [
        {
          "output_type": "stream",
          "text": [
            "(82037, 11)\n",
            "(42640, 11)\n",
            "(443777, 11)\n"
          ],
          "name": "stdout"
        }
      ]
    },
    {
      "cell_type": "markdown",
      "metadata": {
        "id": "zY8Q24p4C2lH"
      },
      "source": [
        "Set the 3 dataframes to be the same length as the length of average and then append these reviews to a new dataframe, review_df:"
      ]
    },
    {
      "cell_type": "code",
      "metadata": {
        "id": "0W91te7PVsug",
        "colab": {
          "base_uri": "https://localhost:8080/",
          "height": 302
        },
        "outputId": "22081124-fafe-4c26-f234-bbc706941dec"
      },
      "source": [
        "negative_df = negative_reviews.sample(n=len(average_reviews), random_state=RANDOM_STATE)\n",
        "average_df = average_reviews\n",
        "positive_df = positive_reviews.sample(n=len(average_reviews), random_state=RANDOM_STATE)\n",
        "review_df = negative_df.append(average_df).append(positive_df)\n",
        "\n",
        "print(negative_df.shape)\n",
        "print(average_df.shape)\n",
        "print(positive_df.shape)\n",
        "print(review_df)"
      ],
      "execution_count": null,
      "outputs": [
        {
          "output_type": "stream",
          "text": [
            "(42640, 11)\n",
            "(42640, 11)\n",
            "(42640, 11)\n",
            "            Id  ... review_type\n",
            "283904  283905  ...           0\n",
            "529413  529414  ...           0\n",
            "70552    70553  ...           0\n",
            "338931  338932  ...           0\n",
            "100498  100499  ...           0\n",
            "...        ...  ...         ...\n",
            "454975  454976  ...           2\n",
            "19141    19142  ...           2\n",
            "60391    60392  ...           2\n",
            "264479  264480  ...           2\n",
            "156661  156662  ...           2\n",
            "\n",
            "[127920 rows x 11 columns]\n"
          ],
          "name": "stdout"
        }
      ]
    },
    {
      "cell_type": "markdown",
      "metadata": {
        "id": "ULSwD7TUwxxR"
      },
      "source": [
        "Now have the same number of reviews for each category:"
      ]
    },
    {
      "cell_type": "code",
      "metadata": {
        "id": "Ag7Myw15wrfq",
        "colab": {
          "base_uri": "https://localhost:8080/",
          "height": 295
        },
        "outputId": "832f6043-a20e-41ef-f3f2-bcc2af2e85d4"
      },
      "source": [
        "sns.countplot(\n",
        "  x='review_type',\n",
        "  data=review_df,\n",
        "  order=review_df.review_type.value_counts().index\n",
        ")\n",
        "\n",
        "plt.xlabel(\"type\")\n",
        "plt.title(\"Review type (resampled)\");"
      ],
      "execution_count": null,
      "outputs": [
        {
          "output_type": "display_data",
          "data": {
            "image/png": "[encoded data removed]",
            "text/plain": [
              "<Figure size 432x288 with 1 Axes>"
            ]
          },
          "metadata": {
            "tags": [],
            "needs_background": "light"
          }
        }
      ]
    },
    {
      "cell_type": "markdown",
      "metadata": {
        "id": "iuGcce1uoHbY"
      },
      "source": [
        "Load the Universal Sentence Encoder: Instead of doing lots of preprocessing, tokenizing etc, thus we use the Universal Sentence Encoder to encode sentences into embedding vectors. This is basically a way of comparing sentences after converting them to a vector of 512 elements. "
      ]
    },
    {
      "cell_type": "code",
      "metadata": {
        "id": "EVn-YDVxxJOA"
      },
      "source": [
        "use = hub.load(\"https://tfhub.dev/google/universal-sentence-encoder/4\")"
      ],
      "execution_count": null,
      "outputs": []
    },
    {
      "cell_type": "markdown",
      "metadata": {
        "id": "nA7JgnXCeB8_"
      },
      "source": [
        "We one-hot encode the review types, i.e. puts 1 or 0 in place of positive, negative or average. "
      ]
    },
    {
      "cell_type": "code",
      "metadata": {
        "id": "60f2aZUjxfxx"
      },
      "source": [
        "type_one_hot = OneHotEncoder(sparse=False).fit_transform(\n",
        "  review_df.review_type.to_numpy().reshape(-1, 1)\n",
        ")"
      ],
      "execution_count": null,
      "outputs": []
    },
    {
      "cell_type": "markdown",
      "metadata": {
        "id": "C0PkI6pWeGCr"
      },
      "source": [
        "Split the data into: train_reviews, test_reviews, y_train, y_test, so that embeddings can be created:"
      ]
    },
    {
      "cell_type": "code",
      "metadata": {
        "id": "VZBwHTNtxvt3"
      },
      "source": [
        "train_reviews, test_reviews, y_train, y_test =\\\n",
        "  train_test_split(\n",
        "    review_df.Text, \n",
        "    type_one_hot, \n",
        "    test_size=.1, \n",
        "    random_state=RANDOM_STATE\n",
        "  )"
      ],
      "execution_count": null,
      "outputs": []
    },
    {
      "cell_type": "markdown",
      "metadata": {
        "id": "ZssNYpVmDN0g"
      },
      "source": [
        "Check what train_reviews looks like and its shape. "
      ]
    },
    {
      "cell_type": "code",
      "metadata": {
        "id": "dzuS9A3576ZJ",
        "colab": {
          "base_uri": "https://localhost:8080/",
          "height": 235
        },
        "outputId": "84be3249-a19b-42b7-c7d6-226130de79c7"
      },
      "source": [
        "print(train_reviews)\n",
        "print(train_reviews.shape)"
      ],
      "execution_count": null,
      "outputs": [
        {
          "output_type": "stream",
          "text": [
            "403603    I was nervous to order a sampler after reading...\n",
            "231401    I don't normally write reviews but for Orgain ...\n",
            "423055    This item sold and shipped by [...] is nothing...\n",
            "340894    I got these for a bbq we were having for a mak...\n",
            "139251    My family and I are slowly making changes to e...\n",
            "                                ...                        \n",
            "359982    Okay, I'll admit, I do want to be the only thr...\n",
            "488411    I purchased a single serve coffee maker that u...\n",
            "112140    My cats love \"wild\" foods. I had been getting ...\n",
            "248732    This Goji powder, I don't know... I feel like ...\n",
            "467603    The first cake that arrived was so dry and som...\n",
            "Name: Text, Length: 115128, dtype: object\n",
            "(115128,)\n"
          ],
          "name": "stdout"
        }
      ]
    },
    {
      "cell_type": "markdown",
      "metadata": {
        "id": "7CeeS5WTeLV2"
      },
      "source": [
        "Create embeddings for X_train, note that this is for the 4th USE so need to use [ r ] rather than r:"
      ]
    },
    {
      "cell_type": "code",
      "metadata": {
        "id": "Cyy2LPBNxzzT",
        "colab": {
          "base_uri": "https://localhost:8080/",
          "height": 34
        },
        "outputId": "1835dafd-4bed-4138-ab67-51831c91e63c"
      },
      "source": [
        "X_train = []\n",
        "for r in tqdm(train_reviews):\n",
        "  emb = use([r])\n",
        "  review_emb = tf.reshape(emb, [-1]).numpy()\n",
        "  X_train.append(review_emb)\n",
        "\n",
        "X_train = np.array(X_train)"
      ],
      "execution_count": null,
      "outputs": [
        {
          "output_type": "stream",
          "text": [
            "100%|██████████| 115128/115128 [10:40<00:00, 179.65it/s]\n"
          ],
          "name": "stderr"
        }
      ]
    },
    {
      "cell_type": "markdown",
      "metadata": {
        "id": "UWl5f0HBePR_"
      },
      "source": [
        "Create Embeddings for X_test:"
      ]
    },
    {
      "cell_type": "code",
      "metadata": {
        "id": "ItTe1K7Ix8-k",
        "colab": {
          "base_uri": "https://localhost:8080/",
          "height": 34
        },
        "outputId": "016c7c0a-273e-42b2-fd45-cd62badbf425"
      },
      "source": [
        "X_test = []\n",
        "for r in tqdm(test_reviews):\n",
        "  emb = use([r])\n",
        "  review_emb = tf.reshape(emb, [-1]).numpy()\n",
        "  X_test.append(review_emb)\n",
        "\n",
        "X_test = np.array(X_test)"
      ],
      "execution_count": null,
      "outputs": [
        {
          "output_type": "stream",
          "text": [
            "100%|██████████| 12792/12792 [01:11<00:00, 179.89it/s]\n"
          ],
          "name": "stderr"
        }
      ]
    },
    {
      "cell_type": "markdown",
      "metadata": {
        "id": "RvLTvd7n8NT9"
      },
      "source": [
        "Saving the embeddings for X_train because this takes a while to do"
      ]
    },
    {
      "cell_type": "code",
      "metadata": {
        "id": "Nhw8TFbt6To1"
      },
      "source": [
        "train_out = open(\"train.pickle_3\",\"wb\")\n",
        "pickle.dump(X_train, train_out)\n",
        "train_out.close()"
      ],
      "execution_count": null,
      "outputs": []
    },
    {
      "cell_type": "markdown",
      "metadata": {
        "id": "uyMvJgKs8AYr"
      },
      "source": [
        "Saving the embeddings for X_test "
      ]
    },
    {
      "cell_type": "code",
      "metadata": {
        "id": "ara-ypg96T8A"
      },
      "source": [
        "test_out = open(\"test.pickle_3\",\"wb\")\n",
        "pickle.dump(X_test, test_out)\n",
        "test_out.close()"
      ],
      "execution_count": null,
      "outputs": []
    },
    {
      "cell_type": "markdown",
      "metadata": {
        "id": "NBVywPWH87v_"
      },
      "source": [
        "Loading in X_train and X_test:"
      ]
    },
    {
      "cell_type": "code",
      "metadata": {
        "id": "XLLaZR959CF2"
      },
      "source": [
        "pickle_in3 = open(\"drive/My Drive/train.pickle_3\",\"rb\")\n",
        "X_train = pickle.load(pickle_in3)\n",
        "pickle_in4 = open(\"drive/My Drive/test.pickle_3\",\"rb\")\n",
        "X_test = pickle.load(pickle_in4)"
      ],
      "execution_count": null,
      "outputs": []
    },
    {
      "cell_type": "markdown",
      "metadata": {
        "id": "s_5BaHA1EQJS"
      },
      "source": [
        "Now X_train is made up of 115,128 lots of vectors of length 512:"
      ]
    },
    {
      "cell_type": "code",
      "metadata": {
        "id": "DbzNOc5xy-gl",
        "colab": {
          "base_uri": "https://localhost:8080/",
          "height": 34
        },
        "outputId": "d99d56b0-2747-499e-b43c-3f2207d990c5"
      },
      "source": [
        "print(X_train.shape, X_test.shape)"
      ],
      "execution_count": null,
      "outputs": [
        {
          "output_type": "stream",
          "text": [
            "(115128, 512) (12792, 512)\n"
          ],
          "name": "stdout"
        }
      ]
    },
    {
      "cell_type": "code",
      "metadata": {
        "id": "OMxi2mj0f1tF",
        "colab": {
          "base_uri": "https://localhost:8080/",
          "height": 34
        },
        "outputId": "8ff3ad16-366a-4c9c-acfd-9e0f00ce7491"
      },
      "source": [
        "X_train[0].shape"
      ],
      "execution_count": null,
      "outputs": [
        {
          "output_type": "execute_result",
          "data": {
            "text/plain": [
              "(512,)"
            ]
          },
          "metadata": {
            "tags": []
          },
          "execution_count": 17
        }
      ]
    },
    {
      "cell_type": "markdown",
      "metadata": {
        "id": "S1ywnopszhCA"
      },
      "source": [
        "# Sentiment Analysis"
      ]
    },
    {
      "cell_type": "markdown",
      "metadata": {
        "id": "oIr_Og_R21iM"
      },
      "source": [
        "*   **Input layer:** Start with the fully connected layer, with 256 neurons, input shape is the same shape as X_train, i.e. 512. Use reLu activation function.  \n",
        "*   **2nd layer:** Dropout layer (prevent overfitting)\n",
        "*   **3rd layer:** Same as input layer, but with 128 neurons (half). \n",
        "*   **4th layer:** Dropout layer\n",
        "*   **Output layer:** Outputs 3 neurons for negative, average and positive. Softmax activation as we are doing classification "
      ]
    },
    {
      "cell_type": "code",
      "metadata": {
        "id": "bsudYetAze0q",
        "colab": {
          "base_uri": "https://localhost:8080/",
          "height": 319
        },
        "outputId": "031d304f-8667-423b-ecc1-57e79902d775"
      },
      "source": [
        "model = keras.Sequential()\n",
        "\n",
        "model.add(\n",
        "  keras.layers.Dense(\n",
        "    units=256,\n",
        "    input_shape=(X_train.shape[1], ),\n",
        "    activation='relu'\n",
        "  )\n",
        ")\n",
        "model.add(\n",
        "  keras.layers.Dropout(rate=0.5)\n",
        ")\n",
        "\n",
        "model.add(\n",
        "  keras.layers.Dense(\n",
        "    units=128,\n",
        "    activation='relu'\n",
        "  )\n",
        ")\n",
        "model.add(\n",
        "  keras.layers.Dropout(rate=0.5)\n",
        ")\n",
        "\n",
        "model.add(keras.layers.Dense(3, activation='softmax'))\n",
        "\n",
        "model.compile(\n",
        "    loss='categorical_crossentropy', \n",
        "    optimizer=keras.optimizers.Adam(0.001),\n",
        "    metrics=['accuracy']\n",
        ")\n",
        "\n",
        "model.summary()"
      ],
      "execution_count": null,
      "outputs": [
        {
          "output_type": "stream",
          "text": [
            "Model: \"sequential\"\n",
            "_________________________________________________________________\n",
            "Layer (type)                 Output Shape              Param #   \n",
            "=================================================================\n",
            "dense (Dense)                (None, 256)               131328    \n",
            "_________________________________________________________________\n",
            "dropout (Dropout)            (None, 256)               0         \n",
            "_________________________________________________________________\n",
            "dense_1 (Dense)              (None, 128)               32896     \n",
            "_________________________________________________________________\n",
            "dropout_1 (Dropout)          (None, 128)               0         \n",
            "_________________________________________________________________\n",
            "dense_2 (Dense)              (None, 3)                 387       \n",
            "=================================================================\n",
            "Total params: 164,611\n",
            "Trainable params: 164,611\n",
            "Non-trainable params: 0\n",
            "_________________________________________________________________\n"
          ],
          "name": "stdout"
        }
      ]
    },
    {
      "cell_type": "markdown",
      "metadata": {
        "id": "Jfti6n_eG5Qf"
      },
      "source": [
        "The model runs for as many epochs necessary before the val_loss starts to rise (it gets to around 27 epochs). The model achieves higher accuracy at batch_size 32 than other batch sizes. Note this uses a validation split of 0.1, rather than 0.2 in the Metacritic model, because it has so much data to work with. This achieves around 76% accuracy on the training data and 74% on the validation data. "
      ]
    },
    {
      "cell_type": "code",
      "metadata": {
        "id": "EHj1wRQM0dD4",
        "colab": {
          "base_uri": "https://localhost:8080/",
          "height": 924
        },
        "outputId": "4498f4bd-8643-4d4f-82d0-064c7a47eb39"
      },
      "source": [
        "es_callback = keras.callbacks.EarlyStopping(monitor='val_loss', patience=3)\n",
        "\n",
        "history = model.fit(\n",
        "    X_train, y_train, \n",
        "    callbacks=[es_callback],\n",
        "    epochs=100, \n",
        "    batch_size=32, \n",
        "    validation_split=0.1, \n",
        "    verbose=1, \n",
        "    shuffle=True\n",
        ")"
      ],
      "execution_count": null,
      "outputs": [
        {
          "output_type": "stream",
          "text": [
            "Epoch 1/100\n",
            "3238/3238 [==============================] - 13s 4ms/step - loss: 0.7621 - accuracy: 0.6566 - val_loss: 0.7159 - val_accuracy: 0.6862\n",
            "Epoch 2/100\n",
            "3238/3238 [==============================] - 13s 4ms/step - loss: 0.7207 - accuracy: 0.6827 - val_loss: 0.6961 - val_accuracy: 0.6915\n",
            "Epoch 3/100\n",
            "3238/3238 [==============================] - 20s 6ms/step - loss: 0.7017 - accuracy: 0.6925 - val_loss: 0.6884 - val_accuracy: 0.6966\n",
            "Epoch 4/100\n",
            "3238/3238 [==============================] - 21s 6ms/step - loss: 0.6875 - accuracy: 0.7019 - val_loss: 0.6782 - val_accuracy: 0.6999\n",
            "Epoch 5/100\n",
            "3238/3238 [==============================] - 19s 6ms/step - loss: 0.6715 - accuracy: 0.7099 - val_loss: 0.6737 - val_accuracy: 0.7026\n",
            "Epoch 6/100\n",
            "3238/3238 [==============================] - 20s 6ms/step - loss: 0.6577 - accuracy: 0.7163 - val_loss: 0.6636 - val_accuracy: 0.7119\n",
            "Epoch 7/100\n",
            "3238/3238 [==============================] - 21s 6ms/step - loss: 0.6479 - accuracy: 0.7223 - val_loss: 0.6571 - val_accuracy: 0.7162\n",
            "Epoch 8/100\n",
            "3238/3238 [==============================] - 20s 6ms/step - loss: 0.6383 - accuracy: 0.7291 - val_loss: 0.6495 - val_accuracy: 0.7187\n",
            "Epoch 9/100\n",
            "3238/3238 [==============================] - 20s 6ms/step - loss: 0.6253 - accuracy: 0.7359 - val_loss: 0.6514 - val_accuracy: 0.7225\n",
            "Epoch 10/100\n",
            "3238/3238 [==============================] - 19s 6ms/step - loss: 0.6182 - accuracy: 0.7390 - val_loss: 0.6459 - val_accuracy: 0.7209\n",
            "Epoch 11/100\n",
            "3238/3238 [==============================] - 19s 6ms/step - loss: 0.6096 - accuracy: 0.7438 - val_loss: 0.6459 - val_accuracy: 0.7215\n",
            "Epoch 12/100\n",
            "3238/3238 [==============================] - 17s 5ms/step - loss: 0.6008 - accuracy: 0.7470 - val_loss: 0.6404 - val_accuracy: 0.7274\n",
            "Epoch 13/100\n",
            "3238/3238 [==============================] - 17s 5ms/step - loss: 0.5937 - accuracy: 0.7509 - val_loss: 0.6358 - val_accuracy: 0.7271\n",
            "Epoch 14/100\n",
            "3238/3238 [==============================] - 15s 5ms/step - loss: 0.5871 - accuracy: 0.7540 - val_loss: 0.6356 - val_accuracy: 0.7279\n",
            "Epoch 15/100\n",
            "3238/3238 [==============================] - 15s 5ms/step - loss: 0.5794 - accuracy: 0.7580 - val_loss: 0.6396 - val_accuracy: 0.7272\n",
            "Epoch 16/100\n",
            "3238/3238 [==============================] - 17s 5ms/step - loss: 0.5742 - accuracy: 0.7607 - val_loss: 0.6383 - val_accuracy: 0.7299\n",
            "Epoch 17/100\n",
            "3238/3238 [==============================] - 17s 5ms/step - loss: 0.5690 - accuracy: 0.7622 - val_loss: 0.6328 - val_accuracy: 0.7347\n",
            "Epoch 18/100\n",
            "3238/3238 [==============================] - 12s 4ms/step - loss: 0.5633 - accuracy: 0.7642 - val_loss: 0.6357 - val_accuracy: 0.7317\n",
            "Epoch 19/100\n",
            "3238/3238 [==============================] - 15s 5ms/step - loss: 0.5570 - accuracy: 0.7687 - val_loss: 0.6308 - val_accuracy: 0.7374\n",
            "Epoch 20/100\n",
            "3238/3238 [==============================] - 19s 6ms/step - loss: 0.5538 - accuracy: 0.7711 - val_loss: 0.6309 - val_accuracy: 0.7352\n",
            "Epoch 21/100\n",
            "3238/3238 [==============================] - 19s 6ms/step - loss: 0.5461 - accuracy: 0.7740 - val_loss: 0.6328 - val_accuracy: 0.7349\n",
            "Epoch 22/100\n",
            "3238/3238 [==============================] - 13s 4ms/step - loss: 0.5435 - accuracy: 0.7764 - val_loss: 0.6289 - val_accuracy: 0.7352\n",
            "Epoch 23/100\n",
            "3238/3238 [==============================] - 13s 4ms/step - loss: 0.5372 - accuracy: 0.7787 - val_loss: 0.6293 - val_accuracy: 0.7393\n",
            "Epoch 24/100\n",
            "3238/3238 [==============================] - 20s 6ms/step - loss: 0.5371 - accuracy: 0.7780 - val_loss: 0.6245 - val_accuracy: 0.7397\n",
            "Epoch 25/100\n",
            "3238/3238 [==============================] - 17s 5ms/step - loss: 0.5305 - accuracy: 0.7820 - val_loss: 0.6334 - val_accuracy: 0.7384\n",
            "Epoch 26/100\n",
            "3238/3238 [==============================] - 16s 5ms/step - loss: 0.5269 - accuracy: 0.7820 - val_loss: 0.6280 - val_accuracy: 0.7397\n",
            "Epoch 27/100\n",
            "3238/3238 [==============================] - 17s 5ms/step - loss: 0.5230 - accuracy: 0.7850 - val_loss: 0.6291 - val_accuracy: 0.7391\n"
          ],
          "name": "stdout"
        }
      ]
    },
    {
      "cell_type": "markdown",
      "metadata": {
        "id": "48MK92jK558G"
      },
      "source": [
        "Plots train loss and validation loss against the number of epochs. "
      ]
    },
    {
      "cell_type": "code",
      "metadata": {
        "id": "XjGQOcoy08Bc",
        "colab": {
          "base_uri": "https://localhost:8080/",
          "height": 279
        },
        "outputId": "315541df-effe-4cce-e0ac-c9091a6a54c3"
      },
      "source": [
        "plt.plot(history.history['loss'], label='train loss')\n",
        "plt.plot(history.history['val_loss'], label='val loss')\n",
        "plt.xlabel(\"epoch\")\n",
        "plt.ylabel(\"Cross-entropy loss\")\n",
        "plt.legend();"
      ],
      "execution_count": null,
      "outputs": [
        {
          "output_type": "display_data",
          "data": {
            "image/png": "[encoded data removed]",
            "text/plain": [
              "<Figure size 432x288 with 1 Axes>"
            ]
          },
          "metadata": {
            "tags": [],
            "needs_background": "light"
          }
        }
      ]
    },
    {
      "cell_type": "markdown",
      "metadata": {
        "id": "q7C2furp6Ce6"
      },
      "source": [
        "Plots train accuracy and validation accuracy against the number of epochs. "
      ]
    },
    {
      "cell_type": "code",
      "metadata": {
        "id": "hzHtpWbv2ACb",
        "colab": {
          "base_uri": "https://localhost:8080/",
          "height": 279
        },
        "outputId": "1fd337fa-4ceb-48ec-82d3-f6e1a66dd994"
      },
      "source": [
        "plt.plot(history.history['accuracy'], label='train accuracy')\n",
        "plt.plot(history.history['val_accuracy'], label='val accuracy')\n",
        "plt.xlabel(\"epoch\")\n",
        "plt.ylabel(\"accuracy\")\n",
        "plt.legend();"
      ],
      "execution_count": null,
      "outputs": [
        {
          "output_type": "display_data",
          "data": {
            "image/png": "[encoded data removed]",
            "text/plain": [
              "<Figure size 432x288 with 1 Axes>"
            ]
          },
          "metadata": {
            "tags": [],
            "needs_background": "light"
          }
        }
      ]
    },
    {
      "cell_type": "markdown",
      "metadata": {
        "id": "RwE-I65WaPni"
      },
      "source": [
        "The below shows the loss on the left and the accuracy on the right (74% accurate in this case), which is the same as the validation data so this is a good sign. "
      ]
    },
    {
      "cell_type": "code",
      "metadata": {
        "id": "CrIowZpD1Hok",
        "colab": {
          "base_uri": "https://localhost:8080/",
          "height": 50
        },
        "outputId": "7dd78058-4bd1-4264-c5bc-acca2db3e86f"
      },
      "source": [
        "model.evaluate(X_test, y_test)"
      ],
      "execution_count": null,
      "outputs": [
        {
          "output_type": "stream",
          "text": [
            "400/400 [==============================] - 1s 2ms/step - loss: 0.6423 - accuracy: 0.7377\n"
          ],
          "name": "stdout"
        },
        {
          "output_type": "execute_result",
          "data": {
            "text/plain": [
              "[0.6422904133796692, 0.7377266883850098]"
            ]
          },
          "metadata": {
            "tags": []
          },
          "execution_count": 23
        }
      ]
    },
    {
      "cell_type": "markdown",
      "metadata": {
        "id": "8GshPPfP1Tax"
      },
      "source": [
        "Predictions\n"
      ]
    },
    {
      "cell_type": "code",
      "metadata": {
        "id": "xpT6coDsLt5R",
        "colab": {
          "base_uri": "https://localhost:8080/",
          "height": 54
        },
        "outputId": "f5384088-5c9a-4f06-8241-f05259c49792"
      },
      "source": [
        "print(test_reviews.iloc[0])"
      ],
      "execution_count": null,
      "outputs": [
        {
          "output_type": "stream",
          "text": [
            "For those who like a bit more flavor than the soft breakfast blends -- this is the best of the bunch.  I have worked through most brand \"bolds\" and come back to this one every time.  Black Tiger is similar but does not have some of the added flavor notes found here.\n"
          ],
          "name": "stdout"
        }
      ]
    },
    {
      "cell_type": "code",
      "metadata": {
        "id": "zTQTEGdnKQqh",
        "colab": {
          "base_uri": "https://localhost:8080/",
          "height": 34
        },
        "outputId": "1b9feb92-ef94-4c58-ab8e-3116bfdc6e44"
      },
      "source": [
        "print(y_test[0])"
      ],
      "execution_count": null,
      "outputs": [
        {
          "output_type": "stream",
          "text": [
            "[0. 0. 1.]\n"
          ],
          "name": "stdout"
        }
      ]
    },
    {
      "cell_type": "markdown",
      "metadata": {
        "id": "Hvo4R46KO3VE"
      },
      "source": [
        "81% certain the review is positive"
      ]
    },
    {
      "cell_type": "code",
      "metadata": {
        "id": "VBM5pQppOpKE",
        "colab": {
          "base_uri": "https://localhost:8080/",
          "height": 34
        },
        "outputId": "873bc037-30c4-4969-a5d3-35516ba595ff"
      },
      "source": [
        "y_pred1 = model.predict(X_test[:1])\n",
        "print(y_pred1)"
      ],
      "execution_count": null,
      "outputs": [
        {
          "output_type": "stream",
          "text": [
            "[[0.04325842 0.1466042  0.8101374 ]]\n"
          ],
          "name": "stdout"
        }
      ]
    },
    {
      "cell_type": "markdown",
      "metadata": {
        "id": "LVNy9lFkwD7i"
      },
      "source": [
        "79% sure the reviews is negative "
      ]
    },
    {
      "cell_type": "code",
      "metadata": {
        "id": "0gNJZQhmPiNW",
        "colab": {
          "base_uri": "https://localhost:8080/",
          "height": 50
        },
        "outputId": "6a6cc8ce-afbc-427c-d995-4e8bfbb1d123"
      },
      "source": [
        "y_pred2 = model.predict(X_test[1:2])\n",
        "print(y_pred2)\n",
        "print(test_reviews.iloc[1])"
      ],
      "execution_count": null,
      "outputs": [
        {
          "output_type": "stream",
          "text": [
            "[[0.7851091  0.21159744 0.00329349]]\n",
            "These were kind of expensive for a dog treat and two of my dogs wouldn't even touch them, so I doubt I would buy them again.\n"
          ],
          "name": "stdout"
        }
      ]
    },
    {
      "cell_type": "markdown",
      "metadata": {
        "id": "BsZFI_92wHj2"
      },
      "source": [
        "75% sure review is average"
      ]
    },
    {
      "cell_type": "code",
      "metadata": {
        "id": "t8m5b6miQ0ly",
        "colab": {
          "base_uri": "https://localhost:8080/",
          "height": 70
        },
        "outputId": "ac64c9cd-7d33-4c24-f9e6-a72121856440"
      },
      "source": [
        "y_pred3 = model.predict(X_test[2:3])\n",
        "print(y_pred3)\n",
        "print(test_reviews.iloc[2])"
      ],
      "execution_count": null,
      "outputs": [
        {
          "output_type": "stream",
          "text": [
            "[[0.18705404 0.7466099  0.06633607]]\n",
            "I bought this flavor along with two others and was surprised at how different the texture was compared to Chick Chick and Super Salmon. It is so thick that my daughter grabs it out of her mouth after putting a bite in, which usually leads to a big mess. I now have to modify the texture by adding water to it, which does not make it a convenient food item when on the go. Since the pouches don't reseal this is even harder when traveling.<br /><br />Overall, the flavor seems good, just too thick. I still love the pouch design for the most part, since I can sometimes break the glass jars of other brands. I will just need to remember to pack some sandwich baggies in case it not working out when trying to eat it on the go.\n"
          ],
          "name": "stdout"
        }
      ]
    },
    {
      "cell_type": "markdown",
      "metadata": {
        "id": "MoSwKPVjFJrh"
      },
      "source": [
        "Save the model"
      ]
    },
    {
      "cell_type": "code",
      "metadata": {
        "id": "4pNA4GcOFEH8"
      },
      "source": [
        "model.save(\"AmazonModel.h5\")"
      ],
      "execution_count": null,
      "outputs": []
    }
  ]
}