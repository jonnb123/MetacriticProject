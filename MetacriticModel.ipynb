{
  "nbformat": 4,
  "nbformat_minor": 0,
  "metadata": {
    "colab": {
      "name": "MetacriticModel",
      "provenance": [],
      "collapsed_sections": []
    },
    "kernelspec": {
      "name": "python3",
      "display_name": "Python 3"
    }
  },
  "cells": [
    {
      "cell_type": "markdown",
      "metadata": {
        "id": "7wNJutXy92sf"
      },
      "source": [
        "# Metacritic Review Data"
      ]
    },
    {
      "cell_type": "markdown",
      "metadata": {
        "id": "8clWQGmgnvc1"
      },
      "source": [
        "We use this layout for embedding (apart from I am using the 4th Universal Sentence Encoder, rather than 3rd) and our neural network: https://www.curiousily.com/posts/sentiment-analysis-with-tensorflow-2-and-keras-using-python/ - the work of \n",
        "Venelin Valkov. I am also doing this for three category classification rather than 2. "
      ]
    },
    {
      "cell_type": "markdown",
      "metadata": {
        "id": "n4Gfl08fd2AH"
      },
      "source": [
        "Import relevant packages"
      ]
    },
    {
      "cell_type": "code",
      "metadata": {
        "id": "9qs0klQfA9ol",
        "colab": {
          "base_uri": "https://localhost:8080/",
          "height": 860
        },
        "outputId": "379a61ac-58f3-4fe2-85f5-31d7d51e422c"
      },
      "source": [
        "!pip install tensorflow_text\n",
        "\n",
        "from google.colab import drive\n",
        "drive.mount('/content/drive')\n",
        "\n",
        "import pandas as pd\n",
        "import pickle\n",
        "import numpy as np\n",
        "from sklearn.model_selection import train_test_split\n",
        "from sklearn.preprocessing import OneHotEncoder\n",
        "import tensorflow_hub as hub\n",
        "from tqdm import tqdm\n",
        "import tensorflow as tf\n",
        "from tensorflow import keras\n",
        "import seaborn as sns\n",
        "import tensorflow_hub as hub\n",
        "import tensorflow_text\n",
        "from wordcloud import WordCloud, STOPWORDS, ImageColorGenerator\n",
        "import matplotlib.pyplot as plt\n",
        "from sklearn.preprocessing import OneHotEncoder\n",
        "\n",
        "\n",
        "\n",
        "RANDOM_STATE = 38\n",
        "\n",
        "np.random.seed(RANDOM_STATE)\n",
        "tf.random.set_seed(RANDOM_STATE)"
      ],
      "execution_count": null,
      "outputs": [
        {
          "output_type": "stream",
          "text": [
            "Collecting tensorflow_text\n",
            "\u001b[?25l  Downloading https://files.pythonhosted.org/packages/28/b2/2dbd90b93913afd07e6101b8b84327c401c394e60141c1e98590038060b3/tensorflow_text-2.3.0-cp36-cp36m-manylinux1_x86_64.whl (2.6MB)\n",
            "\u001b[K     |████████████████████████████████| 2.6MB 2.8MB/s \n",
            "\u001b[?25hRequirement already satisfied: tensorflow<2.4,>=2.3.0 in /usr/local/lib/python3.6/dist-packages (from tensorflow_text) (2.3.0)\n",
            "Requirement already satisfied: gast==0.3.3 in /usr/local/lib/python3.6/dist-packages (from tensorflow<2.4,>=2.3.0->tensorflow_text) (0.3.3)\n",
            "Requirement already satisfied: six>=1.12.0 in /usr/local/lib/python3.6/dist-packages (from tensorflow<2.4,>=2.3.0->tensorflow_text) (1.15.0)\n",
            "Requirement already satisfied: opt-einsum>=2.3.2 in /usr/local/lib/python3.6/dist-packages (from tensorflow<2.4,>=2.3.0->tensorflow_text) (3.3.0)\n",
            "Requirement already satisfied: protobuf>=3.9.2 in /usr/local/lib/python3.6/dist-packages (from tensorflow<2.4,>=2.3.0->tensorflow_text) (3.12.4)\n",
            "Requirement already satisfied: tensorboard<3,>=2.3.0 in /usr/local/lib/python3.6/dist-packages (from tensorflow<2.4,>=2.3.0->tensorflow_text) (2.3.0)\n",
            "Requirement already satisfied: google-pasta>=0.1.8 in /usr/local/lib/python3.6/dist-packages (from tensorflow<2.4,>=2.3.0->tensorflow_text) (0.2.0)\n",
            "Requirement already satisfied: absl-py>=0.7.0 in /usr/local/lib/python3.6/dist-packages (from tensorflow<2.4,>=2.3.0->tensorflow_text) (0.9.0)\n",
            "Requirement already satisfied: wheel>=0.26 in /usr/local/lib/python3.6/dist-packages (from tensorflow<2.4,>=2.3.0->tensorflow_text) (0.34.2)\n",
            "Requirement already satisfied: h5py<2.11.0,>=2.10.0 in /usr/local/lib/python3.6/dist-packages (from tensorflow<2.4,>=2.3.0->tensorflow_text) (2.10.0)\n",
            "Requirement already satisfied: grpcio>=1.8.6 in /usr/local/lib/python3.6/dist-packages (from tensorflow<2.4,>=2.3.0->tensorflow_text) (1.31.0)\n",
            "Requirement already satisfied: wrapt>=1.11.1 in /usr/local/lib/python3.6/dist-packages (from tensorflow<2.4,>=2.3.0->tensorflow_text) (1.12.1)\n",
            "Requirement already satisfied: termcolor>=1.1.0 in /usr/local/lib/python3.6/dist-packages (from tensorflow<2.4,>=2.3.0->tensorflow_text) (1.1.0)\n",
            "Requirement already satisfied: tensorflow-estimator<2.4.0,>=2.3.0 in /usr/local/lib/python3.6/dist-packages (from tensorflow<2.4,>=2.3.0->tensorflow_text) (2.3.0)\n",
            "Requirement already satisfied: scipy==1.4.1 in /usr/local/lib/python3.6/dist-packages (from tensorflow<2.4,>=2.3.0->tensorflow_text) (1.4.1)\n",
            "Requirement already satisfied: numpy<1.19.0,>=1.16.0 in /usr/local/lib/python3.6/dist-packages (from tensorflow<2.4,>=2.3.0->tensorflow_text) (1.18.5)\n",
            "Requirement already satisfied: keras-preprocessing<1.2,>=1.1.1 in /usr/local/lib/python3.6/dist-packages (from tensorflow<2.4,>=2.3.0->tensorflow_text) (1.1.2)\n",
            "Requirement already satisfied: astunparse==1.6.3 in /usr/local/lib/python3.6/dist-packages (from tensorflow<2.4,>=2.3.0->tensorflow_text) (1.6.3)\n",
            "Requirement already satisfied: setuptools in /usr/local/lib/python3.6/dist-packages (from protobuf>=3.9.2->tensorflow<2.4,>=2.3.0->tensorflow_text) (49.2.0)\n",
            "Requirement already satisfied: werkzeug>=0.11.15 in /usr/local/lib/python3.6/dist-packages (from tensorboard<3,>=2.3.0->tensorflow<2.4,>=2.3.0->tensorflow_text) (1.0.1)\n",
            "Requirement already satisfied: google-auth-oauthlib<0.5,>=0.4.1 in /usr/local/lib/python3.6/dist-packages (from tensorboard<3,>=2.3.0->tensorflow<2.4,>=2.3.0->tensorflow_text) (0.4.1)\n",
            "Requirement already satisfied: markdown>=2.6.8 in /usr/local/lib/python3.6/dist-packages (from tensorboard<3,>=2.3.0->tensorflow<2.4,>=2.3.0->tensorflow_text) (3.2.2)\n",
            "Requirement already satisfied: google-auth<2,>=1.6.3 in /usr/local/lib/python3.6/dist-packages (from tensorboard<3,>=2.3.0->tensorflow<2.4,>=2.3.0->tensorflow_text) (1.17.2)\n",
            "Requirement already satisfied: requests<3,>=2.21.0 in /usr/local/lib/python3.6/dist-packages (from tensorboard<3,>=2.3.0->tensorflow<2.4,>=2.3.0->tensorflow_text) (2.23.0)\n",
            "Requirement already satisfied: tensorboard-plugin-wit>=1.6.0 in /usr/local/lib/python3.6/dist-packages (from tensorboard<3,>=2.3.0->tensorflow<2.4,>=2.3.0->tensorflow_text) (1.7.0)\n",
            "Requirement already satisfied: requests-oauthlib>=0.7.0 in /usr/local/lib/python3.6/dist-packages (from google-auth-oauthlib<0.5,>=0.4.1->tensorboard<3,>=2.3.0->tensorflow<2.4,>=2.3.0->tensorflow_text) (1.3.0)\n",
            "Requirement already satisfied: importlib-metadata; python_version < \"3.8\" in /usr/local/lib/python3.6/dist-packages (from markdown>=2.6.8->tensorboard<3,>=2.3.0->tensorflow<2.4,>=2.3.0->tensorflow_text) (1.7.0)\n",
            "Requirement already satisfied: pyasn1-modules>=0.2.1 in /usr/local/lib/python3.6/dist-packages (from google-auth<2,>=1.6.3->tensorboard<3,>=2.3.0->tensorflow<2.4,>=2.3.0->tensorflow_text) (0.2.8)\n",
            "Requirement already satisfied: rsa<5,>=3.1.4; python_version >= \"3\" in /usr/local/lib/python3.6/dist-packages (from google-auth<2,>=1.6.3->tensorboard<3,>=2.3.0->tensorflow<2.4,>=2.3.0->tensorflow_text) (4.6)\n",
            "Requirement already satisfied: cachetools<5.0,>=2.0.0 in /usr/local/lib/python3.6/dist-packages (from google-auth<2,>=1.6.3->tensorboard<3,>=2.3.0->tensorflow<2.4,>=2.3.0->tensorflow_text) (4.1.1)\n",
            "Requirement already satisfied: chardet<4,>=3.0.2 in /usr/local/lib/python3.6/dist-packages (from requests<3,>=2.21.0->tensorboard<3,>=2.3.0->tensorflow<2.4,>=2.3.0->tensorflow_text) (3.0.4)\n",
            "Requirement already satisfied: idna<3,>=2.5 in /usr/local/lib/python3.6/dist-packages (from requests<3,>=2.21.0->tensorboard<3,>=2.3.0->tensorflow<2.4,>=2.3.0->tensorflow_text) (2.10)\n",
            "Requirement already satisfied: certifi>=2017.4.17 in /usr/local/lib/python3.6/dist-packages (from requests<3,>=2.21.0->tensorboard<3,>=2.3.0->tensorflow<2.4,>=2.3.0->tensorflow_text) (2020.6.20)\n",
            "Requirement already satisfied: urllib3!=1.25.0,!=1.25.1,<1.26,>=1.21.1 in /usr/local/lib/python3.6/dist-packages (from requests<3,>=2.21.0->tensorboard<3,>=2.3.0->tensorflow<2.4,>=2.3.0->tensorflow_text) (1.24.3)\n",
            "Requirement already satisfied: oauthlib>=3.0.0 in /usr/local/lib/python3.6/dist-packages (from requests-oauthlib>=0.7.0->google-auth-oauthlib<0.5,>=0.4.1->tensorboard<3,>=2.3.0->tensorflow<2.4,>=2.3.0->tensorflow_text) (3.1.0)\n",
            "Requirement already satisfied: zipp>=0.5 in /usr/local/lib/python3.6/dist-packages (from importlib-metadata; python_version < \"3.8\"->markdown>=2.6.8->tensorboard<3,>=2.3.0->tensorflow<2.4,>=2.3.0->tensorflow_text) (3.1.0)\n",
            "Requirement already satisfied: pyasn1<0.5.0,>=0.4.6 in /usr/local/lib/python3.6/dist-packages (from pyasn1-modules>=0.2.1->google-auth<2,>=1.6.3->tensorboard<3,>=2.3.0->tensorflow<2.4,>=2.3.0->tensorflow_text) (0.4.8)\n",
            "Installing collected packages: tensorflow-text\n",
            "Successfully installed tensorflow-text-2.3.0\n",
            "Go to this URL in a browser: https://accounts.google.com/o/oauth2/auth?client_id=947318989803-6bn6qk8qdgf4n4g3pfee6491hc0brc4i.apps.googleusercontent.com&redirect_uri=urn%3aietf%3awg%3aoauth%3a2.0%3aoob&scope=email%20https%3a%2f%2fwww.googleapis.com%2fauth%2fdocs.test%20https%3a%2f%2fwww.googleapis.com%2fauth%2fdrive%20https%3a%2f%2fwww.googleapis.com%2fauth%2fdrive.photos.readonly%20https%3a%2f%2fwww.googleapis.com%2fauth%2fpeopleapi.readonly&response_type=code\n",
            "\n",
            "Enter your authorization code:\n",
            "··········\n",
            "Mounted at /content/drive\n"
          ],
          "name": "stdout"
        },
        {
          "output_type": "stream",
          "text": [
            "/usr/local/lib/python3.6/dist-packages/statsmodels/tools/_testing.py:19: FutureWarning: pandas.util.testing is deprecated. Use the functions in the public API at pandas.testing instead.\n",
            "  import pandas.util.testing as tm\n"
          ],
          "name": "stderr"
        }
      ]
    },
    {
      "cell_type": "markdown",
      "metadata": {
        "id": "dO3rivpfduJV"
      },
      "source": [
        "Put all of the csv's of Metacritic games together for training:"
      ]
    },
    {
      "cell_type": "code",
      "metadata": {
        "id": "Of4oLywbBj3X",
        "colab": {
          "base_uri": "https://localhost:8080/",
          "height": 252
        },
        "outputId": "d05de2a1-a33e-404d-eee7-685951bbdbcd"
      },
      "source": [
        "df1 = pd.read_csv(\"drive/My Drive/csv's/MetacriticDataset/TLOU2_reviews.csv\",engine='python')\n",
        "df2 = pd.read_csv(\"drive/My Drive/csv's/MetacriticDataset/RDR2_reviews.csv\",engine='python')\n",
        "df3 = pd.read_csv(\"drive/My Drive/csv's/MetacriticDataset/pokemon_reviews.csv\",engine='python')\n",
        "df4 = pd.read_csv(\"drive/My Drive/csv's/MetacriticDataset/overwatch_reviews.csv\",engine='python')\n",
        "df5 = pd.read_csv(\"drive/My Drive/csv's/MetacriticDataset/MW_reviews.csv\",engine='python')\n",
        "df6 = pd.read_csv(\"drive/My Drive/csv's/MetacriticDataset/minecraft_reviews.csv\",engine='python')\n",
        "df7 = pd.read_csv(\"drive/My Drive/csv's/MetacriticDataset/DS_reviews.csv\",engine='python')\n",
        "df8 = pd.read_csv(\"drive/My Drive/csv's/MetacriticDataset/battlefront_reviews.csv\",engine='python')\n",
        "df9 = pd.read_csv(\"drive/My Drive/csv's/MetacriticDataset/BO3_reviews.csv\",engine='python' )\n",
        "df10 = pd.read_csv(\"drive/My Drive/csv's/MetacriticDataset/ASO_reviews.csv\",engine='python' )\n",
        "df11 = pd.read_csv(\"drive/My Drive/csv's/MetacriticDataset/NMS_reviews.csv\",engine='python' )\n",
        "df12 = pd.read_csv(\"drive/My Drive/csv's/MetacriticDataset/HALO5_reviews.csv\",engine='python' )\n",
        "df13 = pd.read_csv(\"drive/My Drive/csv's/MetacriticDataset/BL3_reviews.csv\",engine='python' )\n",
        "df14 = pd.read_csv(\"drive/My Drive/csv's/MetacriticDataset/ACOR_reviews.csv\",engine='python' )\n",
        "df15 = pd.read_csv(\"drive/My Drive/csv's/MetacriticDataset/1886_reviews.csv\",engine='python' )\n",
        "df16 = pd.read_csv(\"drive/My Drive/csv's/MetacriticDataset/DG_reviews.csv\",engine='python' )\n",
        "df17 = pd.read_csv(\"drive/My Drive/csv's/MetacriticDataset/GTAV_reviews.csv\",engine='python' )\n",
        "df18 = pd.read_csv(\"drive/My Drive/csv's/MetacriticDataset/AK_reviews.csv\",engine='python' )\n",
        "df19 = pd.read_csv(\"drive/My Drive/csv's/MetacriticDataset/ACNH_reviews.csv\",engine='python' )\n",
        "df20 = pd.read_csv(\"drive/My Drive/csv's/MetacriticDataset/LG_reviews.csv\",engine='python' )\n",
        "df21 = pd.read_csv(\"drive/My Drive/csv's/MetacriticDataset/RE3_reviews.csv\",engine='python' )\n",
        "df22 = pd.read_csv(\"drive/My Drive/csv's/MetacriticDataset/GOW4_reviews.csv\",engine='python' )\n",
        "df = pd.concat([df1, df2,df3,df4,df5,df6,df7,df8,df9,df10,df11,df12,df13,df14,df15,df16,df17,df18,df19,df20,df21,df22])\n",
        "df = df.reset_index(drop=True)\n",
        "df = df.dropna()\n",
        "\n",
        "print(df)"
      ],
      "execution_count": null,
      "outputs": [
        {
          "output_type": "stream",
          "text": [
            "       rating                                             review\n",
            "0         2.0  Technical part is amazing! Shadows, light awes...\n",
            "1         2.0  Somewhere in this mess was potential for a gre...\n",
            "2         4.0  i was so hyped for this game 20 and something ...\n",
            "3         0.0  I do not think, a very dead Joel does not make...\n",
            "4         0.0  What is this garbage. There is no game in ther...\n",
            "...       ...                                                ...\n",
            "72407    10.0  Excellent game, a twist, graphic Bueb and hist...\n",
            "72408     9.0  Good game however does not fill a small void t...\n",
            "72409     8.0  Much like what Halo 4 was to the original tril...\n",
            "72410     9.0  The game has a great story! With stunning grap...\n",
            "72411     7.0  another gears game. A 9 for visuals, 6 for sto...\n",
            "\n",
            "[67282 rows x 2 columns]\n"
          ],
          "name": "stdout"
        }
      ]
    },
    {
      "cell_type": "markdown",
      "metadata": {
        "id": "YiJbWSlv2_yQ"
      },
      "source": [
        "# Preprocessing"
      ]
    },
    {
      "cell_type": "markdown",
      "metadata": {
        "id": "D-yojSb1E7Ty"
      },
      "source": [
        "The reviews are then seperated into 3 classes that will be compared against the predictions for the 3 class classification. These 3 classes are based off the Metacritic website. I have collected enough reviews now so that there will be at least 15,000 values to train on (if positive, negative and average have the same length). "
      ]
    },
    {
      "cell_type": "code",
      "metadata": {
        "id": "J_GTa_bfE-6l",
        "colab": {
          "base_uri": "https://localhost:8080/",
          "height": 286
        },
        "outputId": "e3ffaf47-7171-42f8-c6ea-4020cb16b7dd"
      },
      "source": [
        "df['review_type'] = df['rating']\n",
        "df.loc[df['review_type'] == 0.0, 'review_type'] = \"Negative\"\n",
        "df.loc[df['review_type'] == 1.0, 'review_type'] = \"Negative\"\n",
        "df.loc[df['review_type'] == 2.0, 'review_type'] = \"Negative\"\n",
        "df.loc[df['review_type'] == 3.0, 'review_type'] = \"Negative\"\n",
        "df.loc[df['review_type'] == 4.0, 'review_type'] = \"Negative\"\n",
        "df.loc[df['review_type'] == 5.0, 'review_type'] = \"Average\"\n",
        "df.loc[df['review_type'] == 6.0, 'review_type'] = \"Average\"\n",
        "df.loc[df['review_type'] == 7.0, 'review_type'] = \"Average\"\n",
        "df.loc[df['review_type'] == 8.0, 'review_type'] = \"Positive\"\n",
        "df.loc[df['review_type'] == 9.0, 'review_type'] = \"Positive\"\n",
        "df.loc[df['review_type'] == 10.0, 'review_type'] = \"Positive\"\n",
        "\n",
        "print(df['review_type'].value_counts())\n",
        "print(df['rating'].value_counts())"
      ],
      "execution_count": null,
      "outputs": [
        {
          "output_type": "stream",
          "text": [
            "Positive    35105\n",
            "Negative    26887\n",
            "Average      5290\n",
            "Name: review_type, dtype: int64\n",
            "10.0    24543\n",
            "0.0     14609\n",
            "9.0      6689\n",
            "1.0      4610\n",
            "8.0      3873\n",
            "2.0      2775\n",
            "4.0      2449\n",
            "3.0      2444\n",
            "5.0      1881\n",
            "7.0      1862\n",
            "6.0      1547\n",
            "Name: rating, dtype: int64\n"
          ],
          "name": "stdout"
        }
      ]
    },
    {
      "cell_type": "markdown",
      "metadata": {
        "id": "SQShjQfSe4CG"
      },
      "source": [
        "Notice that we have the least amount of average reviews, so we want all review types to be of equal length:"
      ]
    },
    {
      "cell_type": "code",
      "metadata": {
        "id": "ssGEyjToSWtB",
        "colab": {
          "base_uri": "https://localhost:8080/",
          "height": 67
        },
        "outputId": "4cda6f8f-891c-4793-9c92-ef767a76aaf0"
      },
      "source": [
        "negative_reviews = df[df.review_type == \"Negative\"]\n",
        "average_reviews = df[df.review_type == \"Average\"]\n",
        "positive_reviews = df[df.review_type == \"Positive\"]\n",
        "\n",
        "print(negative_reviews.shape)\n",
        "print(average_reviews.shape)\n",
        "print(positive_reviews.shape)\n",
        "\n"
      ],
      "execution_count": null,
      "outputs": [
        {
          "output_type": "stream",
          "text": [
            "(26887, 3)\n",
            "(5290, 3)\n",
            "(35105, 3)\n"
          ],
          "name": "stdout"
        }
      ]
    },
    {
      "cell_type": "markdown",
      "metadata": {
        "id": "qUUqGTN5fFgZ"
      },
      "source": [
        "Now there are the same number of reviews in each category:"
      ]
    },
    {
      "cell_type": "code",
      "metadata": {
        "id": "09djBm8Ze0Xh",
        "colab": {
          "base_uri": "https://localhost:8080/",
          "height": 302
        },
        "outputId": "40608ccf-0d06-4559-cdbe-241187694f88"
      },
      "source": [
        "negative_df = negative_reviews.sample(n=len(average_reviews), random_state=RANDOM_STATE)\n",
        "average_df = average_reviews\n",
        "positive_df = positive_reviews.sample(n=len(average_reviews), random_state=RANDOM_STATE)\n",
        "review_df = negative_df.append(average_df).append(positive_df)\n",
        "print(negative_df.shape)\n",
        "print(average_df.shape)\n",
        "print(positive_df.shape)\n",
        "review_df = review_df.reset_index(drop=True)\n",
        "print(review_df)"
      ],
      "execution_count": null,
      "outputs": [
        {
          "output_type": "stream",
          "text": [
            "(5290, 3)\n",
            "(5290, 3)\n",
            "(5290, 3)\n",
            "       rating                                             review review_type\n",
            "0         0.0  It’s a shame the game went that direction.Joel...    Negative\n",
            "1         0.0  The game is nice but you cant get all pokemon ...    Negative\n",
            "2         0.0  C p'o BO pr ctre Tum Nuk c m kar best bread of...    Negative\n",
            "3         3.0  This is what you get if you priorities graphic...    Negative\n",
            "4         0.0  Just a modern propaganda when brawe patriotic ...    Negative\n",
            "...       ...                                                ...         ...\n",
            "15865    10.0  Great game, with new techniques and different ...    Positive\n",
            "15866    10.0  You can't expect fans or anyone else to enjoy ...    Positive\n",
            "15867    10.0  Atmosphere, story, gameplay and totally new an...    Positive\n",
            "15868    10.0  Just finished playing and woah. So emotional, ...    Positive\n",
            "15869     9.0  Visuals are stunning, the gameplay is the same...    Positive\n",
            "\n",
            "[15870 rows x 3 columns]\n"
          ],
          "name": "stdout"
        }
      ]
    },
    {
      "cell_type": "markdown",
      "metadata": {
        "id": "iuGcce1uoHbY"
      },
      "source": [
        "Load the Universal Sentence Encoder: Instead of doing lots of preprocessing, tokenizing etc, thus we use the Universal Sentence Encoder to encode sentences into embedding vectors. This is basically a way of comparing sentences after converting them to a vector of 512 elements. "
      ]
    },
    {
      "cell_type": "code",
      "metadata": {
        "id": "rq7lg5Y1TdB3"
      },
      "source": [
        "use = hub.load(\"https://tfhub.dev/google/universal-sentence-encoder/4\")"
      ],
      "execution_count": null,
      "outputs": []
    },
    {
      "cell_type": "markdown",
      "metadata": {
        "id": "nA7JgnXCeB8_"
      },
      "source": [
        "We one-hot encode the review types, i.e. puts 1 or 0 in place of positive, negative or average. "
      ]
    },
    {
      "cell_type": "code",
      "metadata": {
        "id": "1OF1Jc5vTeed"
      },
      "source": [
        "type_one_hot = OneHotEncoder(sparse=False).fit_transform(\n",
        "  review_df.review_type.to_numpy().reshape(-1, 1)\n",
        ")"
      ],
      "execution_count": null,
      "outputs": []
    },
    {
      "cell_type": "markdown",
      "metadata": {
        "id": "MeaKXEMutRJ4"
      },
      "source": [
        "Can see we have 15,870 elements and 3 elements per review. Can see that the first review is an average one"
      ]
    },
    {
      "cell_type": "code",
      "metadata": {
        "id": "3VFhN562sF3v",
        "colab": {
          "base_uri": "https://localhost:8080/",
          "height": 50
        },
        "outputId": "2262cf5a-e13c-4556-e433-15813b15cf65"
      },
      "source": [
        "print(type_one_hot.shape)\n",
        "print(type_one_hot[0])"
      ],
      "execution_count": null,
      "outputs": [
        {
          "output_type": "stream",
          "text": [
            "(15870, 3)\n",
            "[0. 1. 0.]\n"
          ],
          "name": "stdout"
        }
      ]
    },
    {
      "cell_type": "markdown",
      "metadata": {
        "id": "C0PkI6pWeGCr"
      },
      "source": [
        "Split the data into: train_reviews, test_reviews, y_train, y_test, so that embeddings can be created:"
      ]
    },
    {
      "cell_type": "code",
      "metadata": {
        "id": "-zEaFgR_TmB9"
      },
      "source": [
        "train_reviews, test_reviews, y_train, y_test =\\\n",
        "  train_test_split(\n",
        "    review_df.review, \n",
        "    type_one_hot, \n",
        "    test_size=.1, \n",
        "    random_state=RANDOM_STATE\n",
        "  )"
      ],
      "execution_count": null,
      "outputs": []
    },
    {
      "cell_type": "markdown",
      "metadata": {
        "id": "7CeeS5WTeLV2"
      },
      "source": [
        "Create embeddings for X_train, note that this is for the 4th USE so need to use [ r ] rather than r:"
      ]
    },
    {
      "cell_type": "code",
      "metadata": {
        "id": "qGbJ4_RgTux_",
        "colab": {
          "base_uri": "https://localhost:8080/",
          "height": 34
        },
        "outputId": "cc429396-914e-4121-8641-f9f6e6e57e2a"
      },
      "source": [
        "X_train = []\n",
        "for r in tqdm(train_reviews):\n",
        "  emb = use([r])\n",
        "  review_emb = tf.reshape(emb, [-1]).numpy()\n",
        "  X_train.append(review_emb)\n",
        "\n",
        "X_train = np.array(X_train)"
      ],
      "execution_count": null,
      "outputs": [
        {
          "output_type": "stream",
          "text": [
            "100%|██████████| 14283/14283 [00:42<00:00, 333.86it/s]\n"
          ],
          "name": "stderr"
        }
      ]
    },
    {
      "cell_type": "markdown",
      "metadata": {
        "id": "UWl5f0HBePR_"
      },
      "source": [
        "Create Embeddings for X_test:"
      ]
    },
    {
      "cell_type": "code",
      "metadata": {
        "id": "VFpm0yQKUZWO",
        "colab": {
          "base_uri": "https://localhost:8080/",
          "height": 34
        },
        "outputId": "780715d2-1ebd-4f5b-8ce1-14752d377a43"
      },
      "source": [
        "X_test = []\n",
        "for r in tqdm(test_reviews):\n",
        "  emb = use([r])\n",
        "  review_emb = tf.reshape(emb, [-1]).numpy()\n",
        "  X_test.append(review_emb)\n",
        "\n",
        "X_test = np.array(X_test)"
      ],
      "execution_count": null,
      "outputs": [
        {
          "output_type": "stream",
          "text": [
            "100%|██████████| 1587/1587 [00:04<00:00, 359.71it/s]\n"
          ],
          "name": "stderr"
        }
      ]
    },
    {
      "cell_type": "markdown",
      "metadata": {
        "id": "h18BlTuV25n2"
      },
      "source": [
        "# Sentiment Analysis "
      ]
    },
    {
      "cell_type": "markdown",
      "metadata": {
        "id": "rCCyX4LLyp4f"
      },
      "source": [
        "\n",
        "\n",
        "*   **Input layer:** Start with the fully connected layer, with 256 neurons, input shape is the same shape as X_train, i.e. 512. Use reLu activation function.  \n",
        "*   **2nd layer:** Dropout layer (prevent overfitting)\n",
        "*   **3rd layer:** Same as input layer, but with 128 neurons (half). \n",
        "*   **4th layer:** Dropout layer\n",
        "*   **Output layer:** Outputs 3 neurons for negative, average and positive. Softmax activation as we are doing classification \n",
        "*   Use categorical crossentropy loss function \n",
        "*   Use a learning rate of 0.00001 as this leads to the best accuracy, the model differs here from the Amazon Model. \n",
        "\n",
        "\n",
        "\n",
        "\n"
      ]
    },
    {
      "cell_type": "code",
      "metadata": {
        "id": "uhChI1P3Uh1X",
        "colab": {
          "base_uri": "https://localhost:8080/",
          "height": 319
        },
        "outputId": "e168b7e0-adb6-43ab-d6b0-a8a959e06681"
      },
      "source": [
        "model = keras.Sequential()\n",
        "\n",
        "model.add(\n",
        "  keras.layers.Dense(\n",
        "    units=256,\n",
        "    input_shape=(X_train.shape[1], ), \n",
        "    activation='relu'\n",
        "  )\n",
        ")\n",
        "\n",
        "model.add(\n",
        "  keras.layers.Dropout(rate=0.5)\n",
        ")\n",
        "\n",
        "model.add(\n",
        "  keras.layers.Dense(\n",
        "    units=128,\n",
        "    activation='relu'\n",
        "  )\n",
        ")\n",
        "\n",
        "model.add(\n",
        "  keras.layers.Dropout(rate=0.5)\n",
        ")\n",
        "\n",
        "model.add(keras.layers.Dense(3, activation='softmax'))\n",
        "\n",
        "model.compile(\n",
        "    loss='categorical_crossentropy', \n",
        "    optimizer=keras.optimizers.Adam(0.00001),\n",
        "    metrics=['accuracy']\n",
        ")\n",
        "\n",
        "\n",
        "\n",
        "model.summary()\n"
      ],
      "execution_count": null,
      "outputs": [
        {
          "output_type": "stream",
          "text": [
            "Model: \"sequential\"\n",
            "_________________________________________________________________\n",
            "Layer (type)                 Output Shape              Param #   \n",
            "=================================================================\n",
            "dense (Dense)                (None, 256)               131328    \n",
            "_________________________________________________________________\n",
            "dropout (Dropout)            (None, 256)               0         \n",
            "_________________________________________________________________\n",
            "dense_1 (Dense)              (None, 128)               32896     \n",
            "_________________________________________________________________\n",
            "dropout_1 (Dropout)          (None, 128)               0         \n",
            "_________________________________________________________________\n",
            "dense_2 (Dense)              (None, 3)                 387       \n",
            "=================================================================\n",
            "Total params: 164,611\n",
            "Trainable params: 164,611\n",
            "Non-trainable params: 0\n",
            "_________________________________________________________________\n"
          ],
          "name": "stdout"
        }
      ]
    },
    {
      "cell_type": "markdown",
      "metadata": {
        "id": "-yHk7zMf4zSH"
      },
      "source": [
        "I decide to use earlystopping to try and get the best possible model, i.e. the val_loss is always decreasing regardless of accuracy increasing. I have used a slightly higher validation dataset than I usually would as there is a small dataset. The model eventually gets to around 82 epochs before the val_loss starts to increase. Uses a smaller batch size than the Amazon model as it leads to a better accuracy. The model achieves 69% accuracy on the training data, and 68% on the validation data. \n",
        "\n"
      ]
    },
    {
      "cell_type": "code",
      "metadata": {
        "id": "N3JcDKmGUmOU",
        "colab": {
          "base_uri": "https://localhost:8080/",
          "height": 1000
        },
        "outputId": "91b37ee0-3e6d-45b9-b3fb-e1e9813f8554"
      },
      "source": [
        "es_callback = keras.callbacks.EarlyStopping(monitor='val_loss', patience=3)\n",
        "\n",
        "history = model.fit(\n",
        "    X_train, y_train, \n",
        "    callbacks=[es_callback],\n",
        "    epochs=1000, \n",
        "    batch_size=16, \n",
        "    validation_split=0.2, \n",
        "    verbose=1, \n",
        "    shuffle=True\n",
        ")"
      ],
      "execution_count": null,
      "outputs": [
        {
          "output_type": "stream",
          "text": [
            "Epoch 1/1000\n",
            "715/715 [==============================] - 2s 3ms/step - loss: 1.0956 - accuracy: 0.3578 - val_loss: 1.0891 - val_accuracy: 0.3700\n",
            "Epoch 2/1000\n",
            "715/715 [==============================] - 2s 2ms/step - loss: 1.0861 - accuracy: 0.3998 - val_loss: 1.0785 - val_accuracy: 0.4732\n",
            "Epoch 3/1000\n",
            "715/715 [==============================] - 2s 2ms/step - loss: 1.0748 - accuracy: 0.4415 - val_loss: 1.0649 - val_accuracy: 0.5551\n",
            "Epoch 4/1000\n",
            "715/715 [==============================] - 2s 2ms/step - loss: 1.0609 - accuracy: 0.4925 - val_loss: 1.0475 - val_accuracy: 0.5908\n",
            "Epoch 5/1000\n",
            "715/715 [==============================] - 2s 2ms/step - loss: 1.0424 - accuracy: 0.5284 - val_loss: 1.0256 - val_accuracy: 0.6073\n",
            "Epoch 6/1000\n",
            "715/715 [==============================] - 2s 3ms/step - loss: 1.0239 - accuracy: 0.5526 - val_loss: 1.0019 - val_accuracy: 0.6139\n",
            "Epoch 7/1000\n",
            "715/715 [==============================] - 2s 2ms/step - loss: 1.0003 - accuracy: 0.5751 - val_loss: 0.9763 - val_accuracy: 0.6234\n",
            "Epoch 8/1000\n",
            "715/715 [==============================] - 2s 2ms/step - loss: 0.9759 - accuracy: 0.5873 - val_loss: 0.9509 - val_accuracy: 0.6286\n",
            "Epoch 9/1000\n",
            "715/715 [==============================] - 2s 2ms/step - loss: 0.9549 - accuracy: 0.5958 - val_loss: 0.9274 - val_accuracy: 0.6311\n",
            "Epoch 10/1000\n",
            "715/715 [==============================] - 2s 2ms/step - loss: 0.9370 - accuracy: 0.6028 - val_loss: 0.9059 - val_accuracy: 0.6339\n",
            "Epoch 11/1000\n",
            "715/715 [==============================] - 2s 2ms/step - loss: 0.9138 - accuracy: 0.6097 - val_loss: 0.8875 - val_accuracy: 0.6391\n",
            "Epoch 12/1000\n",
            "715/715 [==============================] - 2s 2ms/step - loss: 0.8985 - accuracy: 0.6156 - val_loss: 0.8715 - val_accuracy: 0.6395\n",
            "Epoch 13/1000\n",
            "715/715 [==============================] - 2s 2ms/step - loss: 0.8836 - accuracy: 0.6221 - val_loss: 0.8586 - val_accuracy: 0.6405\n",
            "Epoch 14/1000\n",
            "715/715 [==============================] - 2s 2ms/step - loss: 0.8706 - accuracy: 0.6252 - val_loss: 0.8474 - val_accuracy: 0.6433\n",
            "Epoch 15/1000\n",
            "715/715 [==============================] - 2s 2ms/step - loss: 0.8631 - accuracy: 0.6253 - val_loss: 0.8383 - val_accuracy: 0.6447\n",
            "Epoch 16/1000\n",
            "715/715 [==============================] - 2s 2ms/step - loss: 0.8497 - accuracy: 0.6349 - val_loss: 0.8303 - val_accuracy: 0.6468\n",
            "Epoch 17/1000\n",
            "715/715 [==============================] - 2s 2ms/step - loss: 0.8490 - accuracy: 0.6342 - val_loss: 0.8245 - val_accuracy: 0.6472\n",
            "Epoch 18/1000\n",
            "715/715 [==============================] - 2s 2ms/step - loss: 0.8387 - accuracy: 0.6422 - val_loss: 0.8194 - val_accuracy: 0.6489\n",
            "Epoch 19/1000\n",
            "715/715 [==============================] - 2s 2ms/step - loss: 0.8343 - accuracy: 0.6385 - val_loss: 0.8148 - val_accuracy: 0.6542\n",
            "Epoch 20/1000\n",
            "715/715 [==============================] - 2s 2ms/step - loss: 0.8308 - accuracy: 0.6410 - val_loss: 0.8109 - val_accuracy: 0.6559\n",
            "Epoch 21/1000\n",
            "715/715 [==============================] - 2s 2ms/step - loss: 0.8295 - accuracy: 0.6443 - val_loss: 0.8077 - val_accuracy: 0.6556\n",
            "Epoch 22/1000\n",
            "715/715 [==============================] - 2s 2ms/step - loss: 0.8229 - accuracy: 0.6420 - val_loss: 0.8044 - val_accuracy: 0.6559\n",
            "Epoch 23/1000\n",
            "715/715 [==============================] - 2s 2ms/step - loss: 0.8197 - accuracy: 0.6497 - val_loss: 0.8017 - val_accuracy: 0.6559\n",
            "Epoch 24/1000\n",
            "715/715 [==============================] - 2s 2ms/step - loss: 0.8109 - accuracy: 0.6564 - val_loss: 0.7990 - val_accuracy: 0.6605\n",
            "Epoch 25/1000\n",
            "715/715 [==============================] - 2s 2ms/step - loss: 0.8141 - accuracy: 0.6497 - val_loss: 0.7967 - val_accuracy: 0.6594\n",
            "Epoch 26/1000\n",
            "715/715 [==============================] - 2s 2ms/step - loss: 0.8071 - accuracy: 0.6569 - val_loss: 0.7949 - val_accuracy: 0.6608\n",
            "Epoch 27/1000\n",
            "715/715 [==============================] - 2s 2ms/step - loss: 0.8012 - accuracy: 0.6609 - val_loss: 0.7934 - val_accuracy: 0.6626\n",
            "Epoch 28/1000\n",
            "715/715 [==============================] - 2s 2ms/step - loss: 0.8029 - accuracy: 0.6629 - val_loss: 0.7915 - val_accuracy: 0.6612\n",
            "Epoch 29/1000\n",
            "715/715 [==============================] - 2s 2ms/step - loss: 0.8020 - accuracy: 0.6572 - val_loss: 0.7903 - val_accuracy: 0.6636\n",
            "Epoch 30/1000\n",
            "715/715 [==============================] - 2s 2ms/step - loss: 0.7983 - accuracy: 0.6662 - val_loss: 0.7891 - val_accuracy: 0.6657\n",
            "Epoch 31/1000\n",
            "715/715 [==============================] - 2s 2ms/step - loss: 0.7941 - accuracy: 0.6652 - val_loss: 0.7872 - val_accuracy: 0.6633\n",
            "Epoch 32/1000\n",
            "715/715 [==============================] - 2s 3ms/step - loss: 0.7915 - accuracy: 0.6668 - val_loss: 0.7860 - val_accuracy: 0.6654\n",
            "Epoch 33/1000\n",
            "715/715 [==============================] - 2s 2ms/step - loss: 0.7959 - accuracy: 0.6649 - val_loss: 0.7853 - val_accuracy: 0.6675\n",
            "Epoch 34/1000\n",
            "715/715 [==============================] - 2s 2ms/step - loss: 0.7900 - accuracy: 0.6708 - val_loss: 0.7844 - val_accuracy: 0.6689\n",
            "Epoch 35/1000\n",
            "715/715 [==============================] - 2s 2ms/step - loss: 0.7887 - accuracy: 0.6687 - val_loss: 0.7836 - val_accuracy: 0.6696\n",
            "Epoch 36/1000\n",
            "715/715 [==============================] - 2s 2ms/step - loss: 0.7817 - accuracy: 0.6696 - val_loss: 0.7824 - val_accuracy: 0.6692\n",
            "Epoch 37/1000\n",
            "715/715 [==============================] - 2s 2ms/step - loss: 0.7846 - accuracy: 0.6666 - val_loss: 0.7815 - val_accuracy: 0.6689\n",
            "Epoch 38/1000\n",
            "715/715 [==============================] - 2s 3ms/step - loss: 0.7848 - accuracy: 0.6687 - val_loss: 0.7806 - val_accuracy: 0.6692\n",
            "Epoch 39/1000\n",
            "715/715 [==============================] - 2s 2ms/step - loss: 0.7846 - accuracy: 0.6715 - val_loss: 0.7799 - val_accuracy: 0.6710\n",
            "Epoch 40/1000\n",
            "715/715 [==============================] - 2s 3ms/step - loss: 0.7788 - accuracy: 0.6747 - val_loss: 0.7792 - val_accuracy: 0.6713\n",
            "Epoch 41/1000\n",
            "715/715 [==============================] - 2s 3ms/step - loss: 0.7779 - accuracy: 0.6757 - val_loss: 0.7787 - val_accuracy: 0.6720\n",
            "Epoch 42/1000\n",
            "715/715 [==============================] - 2s 3ms/step - loss: 0.7805 - accuracy: 0.6727 - val_loss: 0.7780 - val_accuracy: 0.6727\n",
            "Epoch 43/1000\n",
            "715/715 [==============================] - 2s 3ms/step - loss: 0.7787 - accuracy: 0.6707 - val_loss: 0.7777 - val_accuracy: 0.6717\n",
            "Epoch 44/1000\n",
            "715/715 [==============================] - 2s 3ms/step - loss: 0.7750 - accuracy: 0.6716 - val_loss: 0.7770 - val_accuracy: 0.6741\n",
            "Epoch 45/1000\n",
            "715/715 [==============================] - 2s 3ms/step - loss: 0.7740 - accuracy: 0.6764 - val_loss: 0.7762 - val_accuracy: 0.6738\n",
            "Epoch 46/1000\n",
            "715/715 [==============================] - 2s 3ms/step - loss: 0.7736 - accuracy: 0.6770 - val_loss: 0.7757 - val_accuracy: 0.6738\n",
            "Epoch 47/1000\n",
            "715/715 [==============================] - 2s 2ms/step - loss: 0.7731 - accuracy: 0.6740 - val_loss: 0.7754 - val_accuracy: 0.6734\n",
            "Epoch 48/1000\n",
            "715/715 [==============================] - 2s 3ms/step - loss: 0.7692 - accuracy: 0.6778 - val_loss: 0.7753 - val_accuracy: 0.6734\n",
            "Epoch 49/1000\n",
            "715/715 [==============================] - 2s 2ms/step - loss: 0.7658 - accuracy: 0.6774 - val_loss: 0.7747 - val_accuracy: 0.6745\n",
            "Epoch 50/1000\n",
            "715/715 [==============================] - 2s 3ms/step - loss: 0.7704 - accuracy: 0.6769 - val_loss: 0.7741 - val_accuracy: 0.6745\n",
            "Epoch 51/1000\n",
            "715/715 [==============================] - 2s 3ms/step - loss: 0.7662 - accuracy: 0.6766 - val_loss: 0.7740 - val_accuracy: 0.6755\n",
            "Epoch 52/1000\n",
            "715/715 [==============================] - 2s 3ms/step - loss: 0.7677 - accuracy: 0.6770 - val_loss: 0.7735 - val_accuracy: 0.6734\n",
            "Epoch 53/1000\n",
            "715/715 [==============================] - 2s 2ms/step - loss: 0.7677 - accuracy: 0.6839 - val_loss: 0.7728 - val_accuracy: 0.6745\n",
            "Epoch 54/1000\n",
            "715/715 [==============================] - 2s 3ms/step - loss: 0.7631 - accuracy: 0.6824 - val_loss: 0.7727 - val_accuracy: 0.6738\n",
            "Epoch 55/1000\n",
            "715/715 [==============================] - 2s 3ms/step - loss: 0.7654 - accuracy: 0.6795 - val_loss: 0.7724 - val_accuracy: 0.6727\n",
            "Epoch 56/1000\n",
            "715/715 [==============================] - 2s 2ms/step - loss: 0.7598 - accuracy: 0.6828 - val_loss: 0.7725 - val_accuracy: 0.6748\n",
            "Epoch 57/1000\n",
            "715/715 [==============================] - 2s 2ms/step - loss: 0.7636 - accuracy: 0.6841 - val_loss: 0.7720 - val_accuracy: 0.6738\n",
            "Epoch 58/1000\n",
            "715/715 [==============================] - 2s 2ms/step - loss: 0.7610 - accuracy: 0.6807 - val_loss: 0.7719 - val_accuracy: 0.6738\n",
            "Epoch 59/1000\n",
            "715/715 [==============================] - 2s 2ms/step - loss: 0.7598 - accuracy: 0.6854 - val_loss: 0.7716 - val_accuracy: 0.6734\n",
            "Epoch 60/1000\n",
            "715/715 [==============================] - 2s 2ms/step - loss: 0.7584 - accuracy: 0.6881 - val_loss: 0.7711 - val_accuracy: 0.6734\n",
            "Epoch 61/1000\n",
            "715/715 [==============================] - 2s 3ms/step - loss: 0.7597 - accuracy: 0.6850 - val_loss: 0.7714 - val_accuracy: 0.6755\n",
            "Epoch 62/1000\n",
            "715/715 [==============================] - 2s 2ms/step - loss: 0.7549 - accuracy: 0.6875 - val_loss: 0.7710 - val_accuracy: 0.6759\n",
            "Epoch 63/1000\n",
            "715/715 [==============================] - 2s 2ms/step - loss: 0.7581 - accuracy: 0.6873 - val_loss: 0.7704 - val_accuracy: 0.6752\n",
            "Epoch 64/1000\n",
            "715/715 [==============================] - 2s 2ms/step - loss: 0.7564 - accuracy: 0.6885 - val_loss: 0.7700 - val_accuracy: 0.6755\n",
            "Epoch 65/1000\n",
            "715/715 [==============================] - 2s 3ms/step - loss: 0.7558 - accuracy: 0.6855 - val_loss: 0.7703 - val_accuracy: 0.6776\n",
            "Epoch 66/1000\n",
            "715/715 [==============================] - 2s 3ms/step - loss: 0.7539 - accuracy: 0.6844 - val_loss: 0.7701 - val_accuracy: 0.6790\n",
            "Epoch 67/1000\n",
            "715/715 [==============================] - 2s 2ms/step - loss: 0.7554 - accuracy: 0.6869 - val_loss: 0.7698 - val_accuracy: 0.6790\n",
            "Epoch 68/1000\n",
            "715/715 [==============================] - 2s 2ms/step - loss: 0.7532 - accuracy: 0.6869 - val_loss: 0.7695 - val_accuracy: 0.6801\n",
            "Epoch 69/1000\n",
            "715/715 [==============================] - 2s 2ms/step - loss: 0.7526 - accuracy: 0.6875 - val_loss: 0.7693 - val_accuracy: 0.6790\n",
            "Epoch 70/1000\n",
            "715/715 [==============================] - 2s 2ms/step - loss: 0.7518 - accuracy: 0.6877 - val_loss: 0.7691 - val_accuracy: 0.6783\n",
            "Epoch 71/1000\n",
            "715/715 [==============================] - 2s 2ms/step - loss: 0.7523 - accuracy: 0.6876 - val_loss: 0.7693 - val_accuracy: 0.6783\n",
            "Epoch 72/1000\n",
            "715/715 [==============================] - 2s 3ms/step - loss: 0.7505 - accuracy: 0.6873 - val_loss: 0.7693 - val_accuracy: 0.6790\n",
            "Epoch 73/1000\n",
            "715/715 [==============================] - 2s 3ms/step - loss: 0.7511 - accuracy: 0.6885 - val_loss: 0.7684 - val_accuracy: 0.6801\n",
            "Epoch 74/1000\n",
            "715/715 [==============================] - 2s 3ms/step - loss: 0.7503 - accuracy: 0.6878 - val_loss: 0.7683 - val_accuracy: 0.6804\n",
            "Epoch 75/1000\n",
            "715/715 [==============================] - 2s 3ms/step - loss: 0.7468 - accuracy: 0.6892 - val_loss: 0.7681 - val_accuracy: 0.6815\n",
            "Epoch 76/1000\n",
            "715/715 [==============================] - 2s 3ms/step - loss: 0.7485 - accuracy: 0.6903 - val_loss: 0.7682 - val_accuracy: 0.6801\n",
            "Epoch 77/1000\n",
            "715/715 [==============================] - 2s 2ms/step - loss: 0.7506 - accuracy: 0.6871 - val_loss: 0.7679 - val_accuracy: 0.6804\n",
            "Epoch 78/1000\n",
            "715/715 [==============================] - 2s 3ms/step - loss: 0.7476 - accuracy: 0.6911 - val_loss: 0.7681 - val_accuracy: 0.6822\n",
            "Epoch 79/1000\n",
            "715/715 [==============================] - 2s 2ms/step - loss: 0.7458 - accuracy: 0.6879 - val_loss: 0.7676 - val_accuracy: 0.6815\n",
            "Epoch 80/1000\n",
            "715/715 [==============================] - 2s 2ms/step - loss: 0.7473 - accuracy: 0.6866 - val_loss: 0.7677 - val_accuracy: 0.6811\n",
            "Epoch 81/1000\n",
            "715/715 [==============================] - 2s 2ms/step - loss: 0.7448 - accuracy: 0.6925 - val_loss: 0.7677 - val_accuracy: 0.6822\n",
            "Epoch 82/1000\n",
            "715/715 [==============================] - 2s 3ms/step - loss: 0.7441 - accuracy: 0.6898 - val_loss: 0.7676 - val_accuracy: 0.6818\n"
          ],
          "name": "stdout"
        }
      ]
    },
    {
      "cell_type": "markdown",
      "metadata": {
        "id": "48MK92jK558G"
      },
      "source": [
        "Plots train loss and validation loss against the number of epochs. "
      ]
    },
    {
      "cell_type": "code",
      "metadata": {
        "id": "y2Kir43PVtJ3",
        "colab": {
          "base_uri": "https://localhost:8080/",
          "height": 279
        },
        "outputId": "0fe0fde1-c965-4189-a5d4-d61e760aa154"
      },
      "source": [
        "plt.plot(history.history['loss'], label='train loss')\n",
        "plt.plot(history.history['val_loss'], label='val loss')\n",
        "plt.xlabel(\"epoch\")\n",
        "plt.ylabel(\"Cross-entropy loss\")\n",
        "plt.legend();"
      ],
      "execution_count": null,
      "outputs": [
        {
          "output_type": "display_data",
          "data": {
            "image/png": "[encoded data removed]",
            "text/plain": [
              "<Figure size 432x288 with 1 Axes>"
            ]
          },
          "metadata": {
            "tags": [],
            "needs_background": "light"
          }
        }
      ]
    },
    {
      "cell_type": "markdown",
      "metadata": {
        "id": "q7C2furp6Ce6"
      },
      "source": [
        "Plots train accuracy and validation accuracy against the number of epochs. "
      ]
    },
    {
      "cell_type": "code",
      "metadata": {
        "id": "-ObGz8cYVuyG",
        "colab": {
          "base_uri": "https://localhost:8080/",
          "height": 279
        },
        "outputId": "9f220346-19b0-4089-c6e6-0c4c8c992dcb"
      },
      "source": [
        "plt.plot(history.history['accuracy'], label='train accuracy')\n",
        "plt.plot(history.history['val_accuracy'], label='val accuracy')\n",
        "plt.xlabel(\"epoch\")\n",
        "plt.ylabel(\"accuracy\")\n",
        "plt.legend();"
      ],
      "execution_count": null,
      "outputs": [
        {
          "output_type": "display_data",
          "data": {
            "image/png": "[encoded data removed]",
            "text/plain": [
              "<Figure size 432x288 with 1 Axes>"
            ]
          },
          "metadata": {
            "tags": [],
            "needs_background": "light"
          }
        }
      ]
    },
    {
      "cell_type": "markdown",
      "metadata": {
        "id": "0jLbLO2cCy5X"
      },
      "source": [
        "The model achieves 68% accuracy on the testing data."
      ]
    },
    {
      "cell_type": "code",
      "metadata": {
        "id": "33eb3SaELz9t",
        "colab": {
          "base_uri": "https://localhost:8080/",
          "height": 50
        },
        "outputId": "3e38d3b2-7a5f-4389-ace7-80bf7afbc22b"
      },
      "source": [
        "model.evaluate(X_test, y_test)"
      ],
      "execution_count": null,
      "outputs": [
        {
          "output_type": "stream",
          "text": [
            "50/50 [==============================] - 0s 1ms/step - loss: 0.7598 - accuracy: 0.6799\n"
          ],
          "name": "stdout"
        },
        {
          "output_type": "execute_result",
          "data": {
            "text/plain": [
              "[0.7597514986991882, 0.6798991560935974]"
            ]
          },
          "metadata": {
            "tags": []
          },
          "execution_count": 17
        }
      ]
    },
    {
      "cell_type": "code",
      "metadata": {
        "id": "Dsb9eqKmL7AU",
        "colab": {
          "base_uri": "https://localhost:8080/",
          "height": 34
        },
        "outputId": "c7e741ab-311e-41ab-db6a-fce4cab8fe44"
      },
      "source": [
        "print(test_reviews.iloc[0])"
      ],
      "execution_count": null,
      "outputs": [
        {
          "output_type": "stream",
          "text": [
            "Nothing common with war actions.\n"
          ],
          "name": "stdout"
        }
      ]
    },
    {
      "cell_type": "code",
      "metadata": {
        "id": "eMpDbOrpMaud",
        "colab": {
          "base_uri": "https://localhost:8080/",
          "height": 34
        },
        "outputId": "7bc34035-d023-4d64-8050-f467d0af9ddd"
      },
      "source": [
        "print(y_test[0])"
      ],
      "execution_count": null,
      "outputs": [
        {
          "output_type": "stream",
          "text": [
            "[0. 1. 0.]\n"
          ],
          "name": "stdout"
        }
      ]
    },
    {
      "cell_type": "markdown",
      "metadata": {
        "id": "QTS5per7wmz5"
      },
      "source": [
        "62% sure this is an average review"
      ]
    },
    {
      "cell_type": "code",
      "metadata": {
        "id": "bHVU7RJ8MHUb",
        "colab": {
          "base_uri": "https://localhost:8080/",
          "height": 34
        },
        "outputId": "dfc762b0-0d88-413c-f682-f89438d069af"
      },
      "source": [
        "y_pred1 = model.predict(X_test[:1])\n",
        "print(y_pred1)"
      ],
      "execution_count": null,
      "outputs": [
        {
          "output_type": "stream",
          "text": [
            "[[0.16534738 0.61931247 0.21534017]]\n"
          ],
          "name": "stdout"
        }
      ]
    },
    {
      "cell_type": "markdown",
      "metadata": {
        "id": "t5SSwSvatLzq"
      },
      "source": [
        "Save the model "
      ]
    },
    {
      "cell_type": "code",
      "metadata": {
        "id": "Z5LmmKSwMiIC"
      },
      "source": [
        "model.save(\"drive/My Drive/MetacriticModel.h5\")"
      ],
      "execution_count": null,
      "outputs": []
    }
  ]
}